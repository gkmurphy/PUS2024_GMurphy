{
  "nbformat": 4,
  "nbformat_minor": 0,
  "metadata": {
    "colab": {
      "provenance": [],
      "authorship_tag": "ABX9TyMTCy3OdcaN8BNGIyaoKXHT",
      "include_colab_link": true
    },
    "kernelspec": {
      "name": "python3",
      "display_name": "Python 3"
    },
    "language_info": {
      "name": "python"
    }
  },
  "cells": [
    {
      "cell_type": "markdown",
      "metadata": {
        "id": "view-in-github",
        "colab_type": "text"
      },
      "source": [
        "<a href=\"https://colab.research.google.com/github/gkmurphy/PUS2024_GMurphy/blob/HW2/HW2_CitiBikes_GwenMurphy.ipynb\" target=\"_parent\"><img src=\"https://colab.research.google.com/assets/colab-badge.svg\" alt=\"Open In Colab\"/></a>"
      ]
    },
    {
      "cell_type": "markdown",
      "source": [
        "# Experimental Design\n",
        "**Observation/Question:** There appears to be more people biking in non-winter months. This may be because people are biking for pleasure (customers) to enjoy warmer weather, whereas those biking in winter are using a bike as their main form of transportation (subscribers). So, there are more overall bikers in non-winter from both groups, compared to mostly subscribers biking in winter. Are there significantly more subscribers biking in winter than customers as compared to the same groups biking in non-winter?\n",
        "\n",
        "Winter is defined as December, January, February whereas non-winter is all other months.\n",
        "\n",
        "---------------------------------------------------------------------\n",
        "\n",
        "Due to memory issues we'll be comparing January (winter) to July (non-winter) instead of 3 months vs 9 months it's 1 month vs 1 month.\n",
        "\n",
        "---------------------------------------------------------------------\n",
        "\n",
        "\n",
        "**Significance Threshold:** 0.05\n",
        "\n",
        "**Null Hypothesis:** The proportion of subscribers (S) biking in winter is the same or less than the proportion of customers (C) compared to the proportion of subscribers biking in non-winter months compared to customers.\n",
        "# _$H_0$_ : $\\frac{S_{\\mathrm{winter}}}{S_{\\mathrm{total}}} <= \\frac{C_{\\mathrm{winter}}}{C_{\\mathrm{total}}}$\n",
        "\n",
        "\n",
        "**Alternative Hypothesis:** The proportion of subscribers (S) biking in winter is higher than the proportion of customers (C) compared to the proportion of subscribers biking in non-winter months compared to customers.\n",
        "# _$H_1$_ : $\\frac{S_{\\mathrm{winter}}}{S_{\\mathrm{total}}} > \\frac{C_{\\mathrm{winter}}}{C_{\\mathrm{total}}}$\n",
        "\n",
        "\n",
        "\n",
        "\n"
      ],
      "metadata": {
        "id": "00VkRQ6PYrlg"
      }
    },
    {
      "cell_type": "markdown",
      "source": [
        "# Data Upload - Too Large Issues\n",
        "Let me know if you have feedback on how to make the original comparison work."
      ],
      "metadata": {
        "id": "hubgoQt4Bq5A"
      }
    },
    {
      "cell_type": "code",
      "source": [
        "#I used a lot of google and a little ChatGBT to help making a fx to combine the files\n",
        "#To deal with size constraints and weirdly named files, extra zips - crash central\n",
        "#Admittedly this is a little slow to get all of the data.. maybe 20 min\n",
        "\n",
        "# def process_and_append_citibike_data(months, folder_path, output_file, chunk_size=100000):\n",
        "#     # Loop through the months and load the corresponding CSV files from the folder\n",
        "#     for month in months:\n",
        "#         # Search for files that match the month (e.g., '202301')\n",
        "#         for file_name in os.listdir(folder_path):\n",
        "#             # Check if the file name starts with the month and ends with '.csv'\n",
        "#             if file_name.startswith(month) and file_name.endswith('.csv'):\n",
        "#                 file_path = os.path.join(folder_path, file_name)\n",
        "#                 print(f\"Processing file: {file_path}\")\n",
        "\n",
        "#                 # Read the CSV file in chunks\n",
        "#                 chunk_iter = pd.read_csv(file_path, chunksize=chunk_size, low_memory=False)\n",
        "\n",
        "#                 # Process each chunk and append it directly to the output file\n",
        "#                 for i, chunk in enumerate(chunk_iter):\n",
        "#                     if i == 0 and month == months[0]:\n",
        "#                         # Write the first chunk with headers to a new file\n",
        "#                         chunk.to_csv(output_file, mode='w', index=False)\n",
        "#                     else:\n",
        "#                         # Append subsequent chunks without headers\n",
        "#                         chunk.to_csv(output_file, mode='a', header=False, index=False)\n",
        "\n",
        "#     print(f\"Data successfully written to {output_file}\")\n",
        "\n",
        "# #Call the Fx\n",
        "# winter_months = ['202301', '202302', '202312']\n",
        "# output_file = 'winter_citibike_data.csv'\n",
        "# process_and_append_citibike_data(winter_months, folder_path, output_file)\n",
        "\n",
        "# all_months = ['202301', '202302', '202303', '202304', '202305', '202306',\n",
        "#               '202307', '202308', '202309', '202310', '202311', '202312']\n",
        "# output_file_all = 'full_year_citibike_data.csv'\n",
        "# process_and_append_citibike_data(all_months, folder_path, output_file_all)"
      ],
      "metadata": {
        "id": "X20TK7NvaWfO"
      },
      "execution_count": null,
      "outputs": []
    },
    {
      "cell_type": "code",
      "source": [
        "# def extract_zip_files(folder_path): #extract 2023 data now\n",
        "#     for file_name in os.listdir(folder_path):\n",
        "#         if file_name.endswith('.zip'):\n",
        "#             file_path = os.path.join(folder_path, file_name)\n",
        "\n",
        "#             # Extract the zip file\n",
        "#             with zipfile.ZipFile(file_path, 'r') as zip_ref:\n",
        "#                 zip_ref.extractall(folder_path)\n",
        "#                 print(f\"Extracted: {file_name}\")\n",
        "\n",
        "# # Path to the folder where the zip files are located (and then extracted)\n",
        "# folder_path = './2023-citibike-tripdata'\n",
        "\n",
        "# # Extract all zip files\n",
        "# extract_zip_files(folder_path)"
      ],
      "metadata": {
        "id": "72WGmGjZs6aY"
      },
      "execution_count": null,
      "outputs": []
    },
    {
      "cell_type": "code",
      "source": [
        "# # List all files in the extraction folder\n",
        "# folder_path = './2023-citibike-tripdata'\n",
        "# extracted_files = os.listdir(folder_path)\n",
        "\n",
        "# print(\"Extracted Files:\", extracted_files)\n"
      ],
      "metadata": {
        "id": "jFudDiLavrlA"
      },
      "execution_count": null,
      "outputs": []
    },
    {
      "cell_type": "code",
      "source": [
        "# # Load only the 'usertype' column from the winter and full-year data to make it smaller\n",
        "# #checked the csv and it's called member_casual\n",
        "# cbWinter23 = pd.read_csv('winter_citibike_data.csv', usecols=['member_casual'], low_memory=False)\n",
        "# cbAll23 = pd.read_csv('full_year_citibike_data.csv', usecols=['member_casual'], low_memory=False)\n",
        "\n",
        "# # Show the first few rows of both dataframes\n",
        "# print(cbWinter23.head())\n",
        "# print(cbAll23.head())\n",
        "\n"
      ],
      "metadata": {
        "id": "5UAepf4y1eUI"
      },
      "execution_count": null,
      "outputs": []
    },
    {
      "cell_type": "code",
      "source": [
        "# print(cbWinter23.columns)\n",
        "# print(cbAll23.columns)"
      ],
      "metadata": {
        "id": "UQ1KOxtN6WY1"
      },
      "execution_count": null,
      "outputs": []
    },
    {
      "cell_type": "markdown",
      "source": [
        "# Data Upload"
      ],
      "metadata": {
        "id": "y_Ntj0gUB01T"
      }
    },
    {
      "cell_type": "code",
      "execution_count": null,
      "metadata": {
        "id": "GCwgJRVkYoC4"
      },
      "outputs": [],
      "source": [
        "import pandas as pd\n",
        "import zipfile\n",
        "import requests\n",
        "import os\n",
        "from io import BytesIO\n",
        "import matplotlib.pyplot as plt\n"
      ]
    },
    {
      "cell_type": "code",
      "source": [
        "datestring = '2023'\n",
        "\n",
        "url = \"https://s3.amazonaws.com/tripdata/\" + datestring + \"-citibike-tripdata.zip\"\n",
        "\n",
        "# Download the zip file\n",
        "response = requests.get(url)\n",
        "zip_file = zipfile.ZipFile(BytesIO(response.content))\n",
        "zip_file.extractall()"
      ],
      "metadata": {
        "id": "aWZ7KjXBYql9"
      },
      "execution_count": null,
      "outputs": []
    },
    {
      "cell_type": "code",
      "source": [
        "!ls #go thru folders to find data\n",
        "!ls 2023-citibike-tripdata"
      ],
      "metadata": {
        "collapsed": true,
        "id": "pbNKSh6YtC1b",
        "colab": {
          "base_uri": "https://localhost:8080/"
        },
        "outputId": "c4d16516-2ad6-401a-fae3-1e4a5eebfb7b"
      },
      "execution_count": null,
      "outputs": [
        {
          "output_type": "stream",
          "name": "stdout",
          "text": [
            "2023-citibike-tripdata\t     jan_july_citibike_data.csv  winter_citibike_data.csv\n",
            "full_year_citibike_data.csv  sample_data\n",
            "202301-citibike-tripdata_1.csv\t202305-citibike-tripdata.zip\t202309-citibike-tripdata_3.csv\n",
            "202301-citibike-tripdata_2.csv\t202306-citibike-tripdata_1.csv\t202309-citibike-tripdata_4.csv\n",
            "202301-citibike-tripdata.zip\t202306-citibike-tripdata_2.csv\t202309-citibike-tripdata.zip\n",
            "202302-citibike-tripdata_1.csv\t202306-citibike-tripdata_3.csv\t202310-citibike-tripdata_1.csv\n",
            "202302-citibike-tripdata_2.csv\t202306-citibike-tripdata_4.csv\t202310-citibike-tripdata_2.csv\n",
            "202302-citibike-tripdata.zip\t202306-citibike-tripdata.zip\t202310-citibike-tripdata_3.csv\n",
            "202303-citibike-tripdata_1.csv\t202307-citibike-tripdata_1.csv\t202310-citibike-tripdata_4.csv\n",
            "202303-citibike-tripdata_2.csv\t202307-citibike-tripdata_2.csv\t202310-citibike-tripdata.zip\n",
            "202303-citibike-tripdata_3.csv\t202307-citibike-tripdata_3.csv\t202311-citibike-tripdata_1.csv\n",
            "202303-citibike-tripdata.zip\t202307-citibike-tripdata_4.csv\t202311-citibike-tripdata_2.csv\n",
            "202304-citibike-tripdata_1.csv\t202307-citibike-tripdata.zip\t202311-citibike-tripdata_3.csv\n",
            "202304-citibike-tripdata_2.csv\t202308-citibike-tripdata_1.csv\t202311-citibike-tripdata.zip\n",
            "202304-citibike-tripdata_3.csv\t202308-citibike-tripdata_2.csv\t202312-citibike-tripdata_1.csv\n",
            "202304-citibike-tripdata.zip\t202308-citibike-tripdata_3.csv\t202312-citibike-tripdata_2.csv\n",
            "202305-citibike-tripdata_1.csv\t202308-citibike-tripdata_4.csv\t202312-citibike-tripdata_3.csv\n",
            "202305-citibike-tripdata_2.csv\t202308-citibike-tripdata.zip\t202312-citibike-tripdata.zip\n",
            "202305-citibike-tripdata_3.csv\t202309-citibike-tripdata_1.csv\n",
            "202305-citibike-tripdata_4.csv\t202309-citibike-tripdata_2.csv\n"
          ]
        }
      ]
    },
    {
      "cell_type": "code",
      "source": [
        "def process_and_append_citibike_data(months, folder_path, output_file, chunk_size=100000):\n",
        "    # Loop through the months and load the corresponding CSV files from the folder\n",
        "    for month in months:\n",
        "        # Search for files that match the month (e.g., '202301')\n",
        "        for file_name in os.listdir(folder_path):\n",
        "            # Check if the file name starts with the month and ends with '.csv'\n",
        "            if file_name.startswith(month) and file_name.endswith('.csv'):\n",
        "                file_path = os.path.join(folder_path, file_name)\n",
        "                print(f\"Processing file: {file_path}\")\n",
        "\n",
        "                # Read the CSV file in chunks\n",
        "                chunk_iter = pd.read_csv(file_path, chunksize=chunk_size, low_memory=False)\n",
        "\n",
        "                # Process each chunk and append it directly to the output file\n",
        "                for i, chunk in enumerate(chunk_iter):\n",
        "                    if i == 0 and month == months[0]:\n",
        "                        # Write the first chunk with headers to a new file\n",
        "                        chunk.to_csv(output_file, mode='w', index=False)\n",
        "                    else:\n",
        "                        # Append subsequent chunks without headers\n",
        "                        chunk.to_csv(output_file, mode='a', header=False, index=False)\n",
        "\n",
        "    print(f\"Data successfully written to {output_file}\")\n",
        "\n",
        "# Call the function for January and July data only\n",
        "jan_july_months = ['202301', '202307']\n",
        "output_file_jan_july = 'jan_july_citibike_data.csv'\n",
        "folder_path = './2023-citibike-tripdata'\n",
        "\n",
        "process_and_append_citibike_data(jan_july_months, folder_path, output_file_jan_july)"
      ],
      "metadata": {
        "id": "BhWDiNKdCaKl",
        "colab": {
          "base_uri": "https://localhost:8080/"
        },
        "outputId": "05b9a93f-8403-4005-e8c3-88deac6d552e"
      },
      "execution_count": null,
      "outputs": [
        {
          "output_type": "stream",
          "name": "stdout",
          "text": [
            "Processing file: ./2023-citibike-tripdata/202301-citibike-tripdata_2.csv\n",
            "Processing file: ./2023-citibike-tripdata/202301-citibike-tripdata_1.csv\n",
            "Processing file: ./2023-citibike-tripdata/202307-citibike-tripdata_2.csv\n",
            "Processing file: ./2023-citibike-tripdata/202307-citibike-tripdata_1.csv\n",
            "Processing file: ./2023-citibike-tripdata/202307-citibike-tripdata_4.csv\n",
            "Processing file: ./2023-citibike-tripdata/202307-citibike-tripdata_3.csv\n",
            "Data successfully written to jan_july_citibike_data.csv\n"
          ]
        }
      ]
    },
    {
      "cell_type": "code",
      "source": [
        "cbJanJul = pd.read_csv('jan_july_citibike_data.csv')"
      ],
      "metadata": {
        "id": "FgSu1GFtD75Z",
        "colab": {
          "base_uri": "https://localhost:8080/"
        },
        "outputId": "b6a23525-5736-401d-e7f7-60f8b66c2155"
      },
      "execution_count": null,
      "outputs": [
        {
          "output_type": "stream",
          "name": "stderr",
          "text": [
            "<ipython-input-10-08a347d96569>:1: DtypeWarning: Columns (5,7) have mixed types. Specify dtype option on import or set low_memory=False.\n",
            "  cbJanJul = pd.read_csv('jan_july_citibike_data.csv')\n"
          ]
        }
      ]
    },
    {
      "cell_type": "code",
      "source": [
        "cbJanJul.columns\n",
        "cbJanJul[\"date\"] = pd.to_datetime(cbJanJul.started_at)\n",
        "cbJanJul.drop(['ride_id', 'rideable_type', 'started_at', 'ended_at',\n",
        "       'start_station_name', 'start_station_id', 'end_station_name',\n",
        "       'end_station_id', 'start_lat', 'start_lng', 'end_lat', 'end_lng',], axis=1, inplace=True)\n",
        "\n",
        "print(cbJanJul.head())\n"
      ],
      "metadata": {
        "id": "tXQi2q-eEYae",
        "colab": {
          "base_uri": "https://localhost:8080/"
        },
        "outputId": "c7977cfd-00a9-4c70-85d8-d024da90895b"
      },
      "execution_count": null,
      "outputs": [
        {
          "output_type": "stream",
          "name": "stdout",
          "text": [
            "  member_casual                    date\n",
            "0        member 2023-01-07 15:36:53.430\n",
            "1        member 2023-01-04 19:23:01.234\n",
            "2        member 2023-01-20 09:22:19.894\n",
            "3        member 2023-01-24 10:38:01.135\n",
            "4        member 2023-01-13 10:17:38.192\n"
          ]
        }
      ]
    },
    {
      "cell_type": "code",
      "source": [
        "cbJanJul"
      ],
      "metadata": {
        "colab": {
          "base_uri": "https://localhost:8080/",
          "height": 423
        },
        "id": "z0uhdPX0Iaip",
        "outputId": "29942411-3c32-46ff-da34-20cfe71c8358"
      },
      "execution_count": null,
      "outputs": [
        {
          "output_type": "execute_result",
          "data": {
            "text/plain": [
              "        member_casual                    date\n",
              "0              member 2023-01-07 15:36:53.430\n",
              "1              member 2023-01-04 19:23:01.234\n",
              "2              member 2023-01-20 09:22:19.894\n",
              "3              member 2023-01-24 10:38:01.135\n",
              "4              member 2023-01-13 10:17:38.192\n",
              "...               ...                     ...\n",
              "4659576        member 2023-07-31 15:33:25.123\n",
              "4659577        member 2023-07-13 08:29:35.084\n",
              "4659578        member 2023-07-06 20:24:12.792\n",
              "4659579        member 2023-07-31 17:56:42.850\n",
              "4659580        member 2023-07-29 01:04:15.496\n",
              "\n",
              "[4659581 rows x 2 columns]"
            ],
            "text/html": [
              "\n",
              "  <div id=\"df-64ef6f08-ff05-43ac-a0af-8145ac3df971\" class=\"colab-df-container\">\n",
              "    <div>\n",
              "<style scoped>\n",
              "    .dataframe tbody tr th:only-of-type {\n",
              "        vertical-align: middle;\n",
              "    }\n",
              "\n",
              "    .dataframe tbody tr th {\n",
              "        vertical-align: top;\n",
              "    }\n",
              "\n",
              "    .dataframe thead th {\n",
              "        text-align: right;\n",
              "    }\n",
              "</style>\n",
              "<table border=\"1\" class=\"dataframe\">\n",
              "  <thead>\n",
              "    <tr style=\"text-align: right;\">\n",
              "      <th></th>\n",
              "      <th>member_casual</th>\n",
              "      <th>date</th>\n",
              "    </tr>\n",
              "  </thead>\n",
              "  <tbody>\n",
              "    <tr>\n",
              "      <th>0</th>\n",
              "      <td>member</td>\n",
              "      <td>2023-01-07 15:36:53.430</td>\n",
              "    </tr>\n",
              "    <tr>\n",
              "      <th>1</th>\n",
              "      <td>member</td>\n",
              "      <td>2023-01-04 19:23:01.234</td>\n",
              "    </tr>\n",
              "    <tr>\n",
              "      <th>2</th>\n",
              "      <td>member</td>\n",
              "      <td>2023-01-20 09:22:19.894</td>\n",
              "    </tr>\n",
              "    <tr>\n",
              "      <th>3</th>\n",
              "      <td>member</td>\n",
              "      <td>2023-01-24 10:38:01.135</td>\n",
              "    </tr>\n",
              "    <tr>\n",
              "      <th>4</th>\n",
              "      <td>member</td>\n",
              "      <td>2023-01-13 10:17:38.192</td>\n",
              "    </tr>\n",
              "    <tr>\n",
              "      <th>...</th>\n",
              "      <td>...</td>\n",
              "      <td>...</td>\n",
              "    </tr>\n",
              "    <tr>\n",
              "      <th>4659576</th>\n",
              "      <td>member</td>\n",
              "      <td>2023-07-31 15:33:25.123</td>\n",
              "    </tr>\n",
              "    <tr>\n",
              "      <th>4659577</th>\n",
              "      <td>member</td>\n",
              "      <td>2023-07-13 08:29:35.084</td>\n",
              "    </tr>\n",
              "    <tr>\n",
              "      <th>4659578</th>\n",
              "      <td>member</td>\n",
              "      <td>2023-07-06 20:24:12.792</td>\n",
              "    </tr>\n",
              "    <tr>\n",
              "      <th>4659579</th>\n",
              "      <td>member</td>\n",
              "      <td>2023-07-31 17:56:42.850</td>\n",
              "    </tr>\n",
              "    <tr>\n",
              "      <th>4659580</th>\n",
              "      <td>member</td>\n",
              "      <td>2023-07-29 01:04:15.496</td>\n",
              "    </tr>\n",
              "  </tbody>\n",
              "</table>\n",
              "<p>4659581 rows × 2 columns</p>\n",
              "</div>\n",
              "    <div class=\"colab-df-buttons\">\n",
              "\n",
              "  <div class=\"colab-df-container\">\n",
              "    <button class=\"colab-df-convert\" onclick=\"convertToInteractive('df-64ef6f08-ff05-43ac-a0af-8145ac3df971')\"\n",
              "            title=\"Convert this dataframe to an interactive table.\"\n",
              "            style=\"display:none;\">\n",
              "\n",
              "  <svg xmlns=\"http://www.w3.org/2000/svg\" height=\"24px\" viewBox=\"0 -960 960 960\">\n",
              "    <path d=\"M120-120v-720h720v720H120Zm60-500h600v-160H180v160Zm220 220h160v-160H400v160Zm0 220h160v-160H400v160ZM180-400h160v-160H180v160Zm440 0h160v-160H620v160ZM180-180h160v-160H180v160Zm440 0h160v-160H620v160Z\"/>\n",
              "  </svg>\n",
              "    </button>\n",
              "\n",
              "  <style>\n",
              "    .colab-df-container {\n",
              "      display:flex;\n",
              "      gap: 12px;\n",
              "    }\n",
              "\n",
              "    .colab-df-convert {\n",
              "      background-color: #E8F0FE;\n",
              "      border: none;\n",
              "      border-radius: 50%;\n",
              "      cursor: pointer;\n",
              "      display: none;\n",
              "      fill: #1967D2;\n",
              "      height: 32px;\n",
              "      padding: 0 0 0 0;\n",
              "      width: 32px;\n",
              "    }\n",
              "\n",
              "    .colab-df-convert:hover {\n",
              "      background-color: #E2EBFA;\n",
              "      box-shadow: 0px 1px 2px rgba(60, 64, 67, 0.3), 0px 1px 3px 1px rgba(60, 64, 67, 0.15);\n",
              "      fill: #174EA6;\n",
              "    }\n",
              "\n",
              "    .colab-df-buttons div {\n",
              "      margin-bottom: 4px;\n",
              "    }\n",
              "\n",
              "    [theme=dark] .colab-df-convert {\n",
              "      background-color: #3B4455;\n",
              "      fill: #D2E3FC;\n",
              "    }\n",
              "\n",
              "    [theme=dark] .colab-df-convert:hover {\n",
              "      background-color: #434B5C;\n",
              "      box-shadow: 0px 1px 3px 1px rgba(0, 0, 0, 0.15);\n",
              "      filter: drop-shadow(0px 1px 2px rgba(0, 0, 0, 0.3));\n",
              "      fill: #FFFFFF;\n",
              "    }\n",
              "  </style>\n",
              "\n",
              "    <script>\n",
              "      const buttonEl =\n",
              "        document.querySelector('#df-64ef6f08-ff05-43ac-a0af-8145ac3df971 button.colab-df-convert');\n",
              "      buttonEl.style.display =\n",
              "        google.colab.kernel.accessAllowed ? 'block' : 'none';\n",
              "\n",
              "      async function convertToInteractive(key) {\n",
              "        const element = document.querySelector('#df-64ef6f08-ff05-43ac-a0af-8145ac3df971');\n",
              "        const dataTable =\n",
              "          await google.colab.kernel.invokeFunction('convertToInteractive',\n",
              "                                                    [key], {});\n",
              "        if (!dataTable) return;\n",
              "\n",
              "        const docLinkHtml = 'Like what you see? Visit the ' +\n",
              "          '<a target=\"_blank\" href=https://colab.research.google.com/notebooks/data_table.ipynb>data table notebook</a>'\n",
              "          + ' to learn more about interactive tables.';\n",
              "        element.innerHTML = '';\n",
              "        dataTable['output_type'] = 'display_data';\n",
              "        await google.colab.output.renderOutput(dataTable, element);\n",
              "        const docLink = document.createElement('div');\n",
              "        docLink.innerHTML = docLinkHtml;\n",
              "        element.appendChild(docLink);\n",
              "      }\n",
              "    </script>\n",
              "  </div>\n",
              "\n",
              "\n",
              "<div id=\"df-0a916a0d-65c4-4b73-989e-47370da3490d\">\n",
              "  <button class=\"colab-df-quickchart\" onclick=\"quickchart('df-0a916a0d-65c4-4b73-989e-47370da3490d')\"\n",
              "            title=\"Suggest charts\"\n",
              "            style=\"display:none;\">\n",
              "\n",
              "<svg xmlns=\"http://www.w3.org/2000/svg\" height=\"24px\"viewBox=\"0 0 24 24\"\n",
              "     width=\"24px\">\n",
              "    <g>\n",
              "        <path d=\"M19 3H5c-1.1 0-2 .9-2 2v14c0 1.1.9 2 2 2h14c1.1 0 2-.9 2-2V5c0-1.1-.9-2-2-2zM9 17H7v-7h2v7zm4 0h-2V7h2v10zm4 0h-2v-4h2v4z\"/>\n",
              "    </g>\n",
              "</svg>\n",
              "  </button>\n",
              "\n",
              "<style>\n",
              "  .colab-df-quickchart {\n",
              "      --bg-color: #E8F0FE;\n",
              "      --fill-color: #1967D2;\n",
              "      --hover-bg-color: #E2EBFA;\n",
              "      --hover-fill-color: #174EA6;\n",
              "      --disabled-fill-color: #AAA;\n",
              "      --disabled-bg-color: #DDD;\n",
              "  }\n",
              "\n",
              "  [theme=dark] .colab-df-quickchart {\n",
              "      --bg-color: #3B4455;\n",
              "      --fill-color: #D2E3FC;\n",
              "      --hover-bg-color: #434B5C;\n",
              "      --hover-fill-color: #FFFFFF;\n",
              "      --disabled-bg-color: #3B4455;\n",
              "      --disabled-fill-color: #666;\n",
              "  }\n",
              "\n",
              "  .colab-df-quickchart {\n",
              "    background-color: var(--bg-color);\n",
              "    border: none;\n",
              "    border-radius: 50%;\n",
              "    cursor: pointer;\n",
              "    display: none;\n",
              "    fill: var(--fill-color);\n",
              "    height: 32px;\n",
              "    padding: 0;\n",
              "    width: 32px;\n",
              "  }\n",
              "\n",
              "  .colab-df-quickchart:hover {\n",
              "    background-color: var(--hover-bg-color);\n",
              "    box-shadow: 0 1px 2px rgba(60, 64, 67, 0.3), 0 1px 3px 1px rgba(60, 64, 67, 0.15);\n",
              "    fill: var(--button-hover-fill-color);\n",
              "  }\n",
              "\n",
              "  .colab-df-quickchart-complete:disabled,\n",
              "  .colab-df-quickchart-complete:disabled:hover {\n",
              "    background-color: var(--disabled-bg-color);\n",
              "    fill: var(--disabled-fill-color);\n",
              "    box-shadow: none;\n",
              "  }\n",
              "\n",
              "  .colab-df-spinner {\n",
              "    border: 2px solid var(--fill-color);\n",
              "    border-color: transparent;\n",
              "    border-bottom-color: var(--fill-color);\n",
              "    animation:\n",
              "      spin 1s steps(1) infinite;\n",
              "  }\n",
              "\n",
              "  @keyframes spin {\n",
              "    0% {\n",
              "      border-color: transparent;\n",
              "      border-bottom-color: var(--fill-color);\n",
              "      border-left-color: var(--fill-color);\n",
              "    }\n",
              "    20% {\n",
              "      border-color: transparent;\n",
              "      border-left-color: var(--fill-color);\n",
              "      border-top-color: var(--fill-color);\n",
              "    }\n",
              "    30% {\n",
              "      border-color: transparent;\n",
              "      border-left-color: var(--fill-color);\n",
              "      border-top-color: var(--fill-color);\n",
              "      border-right-color: var(--fill-color);\n",
              "    }\n",
              "    40% {\n",
              "      border-color: transparent;\n",
              "      border-right-color: var(--fill-color);\n",
              "      border-top-color: var(--fill-color);\n",
              "    }\n",
              "    60% {\n",
              "      border-color: transparent;\n",
              "      border-right-color: var(--fill-color);\n",
              "    }\n",
              "    80% {\n",
              "      border-color: transparent;\n",
              "      border-right-color: var(--fill-color);\n",
              "      border-bottom-color: var(--fill-color);\n",
              "    }\n",
              "    90% {\n",
              "      border-color: transparent;\n",
              "      border-bottom-color: var(--fill-color);\n",
              "    }\n",
              "  }\n",
              "</style>\n",
              "\n",
              "  <script>\n",
              "    async function quickchart(key) {\n",
              "      const quickchartButtonEl =\n",
              "        document.querySelector('#' + key + ' button');\n",
              "      quickchartButtonEl.disabled = true;  // To prevent multiple clicks.\n",
              "      quickchartButtonEl.classList.add('colab-df-spinner');\n",
              "      try {\n",
              "        const charts = await google.colab.kernel.invokeFunction(\n",
              "            'suggestCharts', [key], {});\n",
              "      } catch (error) {\n",
              "        console.error('Error during call to suggestCharts:', error);\n",
              "      }\n",
              "      quickchartButtonEl.classList.remove('colab-df-spinner');\n",
              "      quickchartButtonEl.classList.add('colab-df-quickchart-complete');\n",
              "    }\n",
              "    (() => {\n",
              "      let quickchartButtonEl =\n",
              "        document.querySelector('#df-0a916a0d-65c4-4b73-989e-47370da3490d button');\n",
              "      quickchartButtonEl.style.display =\n",
              "        google.colab.kernel.accessAllowed ? 'block' : 'none';\n",
              "    })();\n",
              "  </script>\n",
              "</div>\n",
              "\n",
              "  <div id=\"id_93a52508-2296-4efc-9545-d54be20d5e95\">\n",
              "    <style>\n",
              "      .colab-df-generate {\n",
              "        background-color: #E8F0FE;\n",
              "        border: none;\n",
              "        border-radius: 50%;\n",
              "        cursor: pointer;\n",
              "        display: none;\n",
              "        fill: #1967D2;\n",
              "        height: 32px;\n",
              "        padding: 0 0 0 0;\n",
              "        width: 32px;\n",
              "      }\n",
              "\n",
              "      .colab-df-generate:hover {\n",
              "        background-color: #E2EBFA;\n",
              "        box-shadow: 0px 1px 2px rgba(60, 64, 67, 0.3), 0px 1px 3px 1px rgba(60, 64, 67, 0.15);\n",
              "        fill: #174EA6;\n",
              "      }\n",
              "\n",
              "      [theme=dark] .colab-df-generate {\n",
              "        background-color: #3B4455;\n",
              "        fill: #D2E3FC;\n",
              "      }\n",
              "\n",
              "      [theme=dark] .colab-df-generate:hover {\n",
              "        background-color: #434B5C;\n",
              "        box-shadow: 0px 1px 3px 1px rgba(0, 0, 0, 0.15);\n",
              "        filter: drop-shadow(0px 1px 2px rgba(0, 0, 0, 0.3));\n",
              "        fill: #FFFFFF;\n",
              "      }\n",
              "    </style>\n",
              "    <button class=\"colab-df-generate\" onclick=\"generateWithVariable('cbJanJul')\"\n",
              "            title=\"Generate code using this dataframe.\"\n",
              "            style=\"display:none;\">\n",
              "\n",
              "  <svg xmlns=\"http://www.w3.org/2000/svg\" height=\"24px\"viewBox=\"0 0 24 24\"\n",
              "       width=\"24px\">\n",
              "    <path d=\"M7,19H8.4L18.45,9,17,7.55,7,17.6ZM5,21V16.75L18.45,3.32a2,2,0,0,1,2.83,0l1.4,1.43a1.91,1.91,0,0,1,.58,1.4,1.91,1.91,0,0,1-.58,1.4L9.25,21ZM18.45,9,17,7.55Zm-12,3A5.31,5.31,0,0,0,4.9,8.1,5.31,5.31,0,0,0,1,6.5,5.31,5.31,0,0,0,4.9,4.9,5.31,5.31,0,0,0,6.5,1,5.31,5.31,0,0,0,8.1,4.9,5.31,5.31,0,0,0,12,6.5,5.46,5.46,0,0,0,6.5,12Z\"/>\n",
              "  </svg>\n",
              "    </button>\n",
              "    <script>\n",
              "      (() => {\n",
              "      const buttonEl =\n",
              "        document.querySelector('#id_93a52508-2296-4efc-9545-d54be20d5e95 button.colab-df-generate');\n",
              "      buttonEl.style.display =\n",
              "        google.colab.kernel.accessAllowed ? 'block' : 'none';\n",
              "\n",
              "      buttonEl.onclick = () => {\n",
              "        google.colab.notebook.generateWithVariable('cbJanJul');\n",
              "      }\n",
              "      })();\n",
              "    </script>\n",
              "  </div>\n",
              "\n",
              "    </div>\n",
              "  </div>\n"
            ],
            "application/vnd.google.colaboratory.intrinsic+json": {
              "type": "dataframe",
              "variable_name": "cbJanJul"
            }
          },
          "metadata": {},
          "execution_count": 12
        }
      ]
    },
    {
      "cell_type": "markdown",
      "source": [
        "#Plot Member vs. Casual Data"
      ],
      "metadata": {
        "id": "cqaMwJPvFKF5"
      }
    },
    {
      "cell_type": "code",
      "source": [
        "# Adopted from Prof Fed's code\n",
        "\n",
        "#Memeber Rider Data\n",
        "cbJanJul_m = cbJanJul[cbJanJul['member_casual'] == 'member'].drop([\"member_casual\"], axis=1)\n",
        "counts_m = cbJanJul_m['date'].groupby([cbJanJul_m['date'].dt.month]).count()\n",
        "ax = counts_m.plot(kind=\"bar\", color='IndianRed', label='Member Rider')\n",
        "\n",
        "#Causual Rider Data\n",
        "cbJanJul_c = cbJanJul[cbJanJul['member_casual'] == 'casual'].drop([\"member_casual\"], axis=1)\n",
        "counts_c = cbJanJul_c['date'].groupby([cbJanJul_c['date'].dt.month]).count()\n",
        "\n",
        "ax = counts_c.plot(kind=\"bar\", color='SteelBlue', alpha=0.5, label='Casual Rider', ax=ax)\n",
        "\n",
        "# Customize x-axis labels for months (January and July)\n",
        "ax.set_xticks([0, 1])\n",
        "ax.set_xticklabels(['January', 'July'], rotation=0)\n",
        "\n",
        "# Set y-axis limits to fit everything\n",
        "ax.set_ylim(0, 3000000)\n",
        "plt.yticks(range(0, 3000001, 250000))\n",
        "\n",
        "# Set plot labels and title\n",
        "plt.legend()\n",
        "plt.title(\"Number of Rides by Member Type and Month\\nJanuary and July\")\n",
        "plt.ylabel(\"Number of Rides by Millions\")\n",
        "\n",
        "\n",
        "#Still pretty ugly..."
      ],
      "metadata": {
        "colab": {
          "base_uri": "https://localhost:8080/",
          "height": 511
        },
        "id": "vFg78JdhFJKA",
        "outputId": "4f9d4109-5d17-4325-dc29-e5cf61323a19"
      },
      "execution_count": null,
      "outputs": [
        {
          "output_type": "execute_result",
          "data": {
            "text/plain": [
              "Text(0, 0.5, 'Number of Rides by Millions')"
            ]
          },
          "metadata": {},
          "execution_count": 13
        },
        {
          "output_type": "display_data",
          "data": {
            "text/plain": [
              "<Figure size 640x480 with 1 Axes>"
            ],
            "image/png": "[encoded data removed]"
          },
          "metadata": {}
        }
      ]
    },
    {
      "cell_type": "markdown",
      "source": [
        "# Normalize for Proportions\n",
        "Fraction of members in january and july and casual riders from january and july\n"
      ],
      "metadata": {
        "id": "6-s2XMNoZdiE"
      }
    },
    {
      "cell_type": "code",
      "source": [
        "cbJanJul['date'] = pd.to_datetime(cbJanJul['date'])\n",
        "cbJanJul['month'] = cbJanJul['date'].dt.month\n",
        "\n",
        "cbJanJul_m = cbJanJul[cbJanJul['member_casual'] == 'member']\n",
        "cbJanJul_c = cbJanJul[cbJanJul['member_casual'] == 'casual']\n",
        "\n",
        "norm_m = len(cbJanJul_m)\n",
        "error_m_jan = cbJanJul_m[cbJanJul_m['month'] == 1].groupby(cbJanJul_m['date'].dt.day)['date'].count().std()\n",
        "error_m_jul = cbJanJul_m[cbJanJul_m['month'] == 7].groupby(cbJanJul_m['date'].dt.day)['date'].count().std()\n",
        "\n",
        "norm_m, error_m_jan, error_m_jul\n"
      ],
      "metadata": {
        "colab": {
          "base_uri": "https://localhost:8080/"
        },
        "id": "6hnRnGoCNA1v",
        "outputId": "1856e1c9-382c-4a5f-8b45-421232c96ce5"
      },
      "execution_count": null,
      "outputs": [
        {
          "output_type": "execute_result",
          "data": {
            "text/plain": [
              "(3682317, 5997.524766854428, 17026.594340391683)"
            ]
          },
          "metadata": {},
          "execution_count": 14
        }
      ]
    },
    {
      "cell_type": "code",
      "source": [
        "norm_c = len(cbJanJul_c)\n",
        "error_c_jan = cbJanJul_c[cbJanJul_c['month'] == 1].groupby(cbJanJul_c['date'].dt.day)['date'].count().std()\n",
        "error_c_jul = cbJanJul_c[cbJanJul_c['month'] == 7].groupby(cbJanJul_c['date'].dt.day)['date'].count().std()\n",
        "\n",
        "\n",
        "norm_c, error_c_jan, error_c_jul"
      ],
      "metadata": {
        "colab": {
          "base_uri": "https://localhost:8080/"
        },
        "id": "HuOmwinQOq-_",
        "outputId": "495bc152-4a73-4920-9464-d89c9e5da4fb"
      },
      "execution_count": null,
      "outputs": [
        {
          "output_type": "execute_result",
          "data": {
            "text/plain": [
              "(977264, 1724.3698471883788, 5871.23503301505)"
            ]
          },
          "metadata": {},
          "execution_count": 15
        }
      ]
    },
    {
      "cell_type": "code",
      "source": [
        "ax=((counts_m) / norm_m).plot(kind=\"bar\",color='IndianRed', label='Member bikers')\n",
        "(counts_c / norm_c).plot(kind=\"bar\", alpha=0.5,\n",
        "                           color='SteelBlue', label='Casual bikers', ax=ax)\n",
        "ax.set_xticks([0, 1])\n",
        "ax.set_xticklabels(['January', 'July'], rotation=0)\n",
        "plt.ylabel(\"Number of Rides\")\n",
        "plt.legend()"
      ],
      "metadata": {
        "colab": {
          "base_uri": "https://localhost:8080/",
          "height": 467
        },
        "id": "iBI1usRXO4nQ",
        "outputId": "dbec89ec-fb03-428a-fb1a-696d4ae1bb2d"
      },
      "execution_count": null,
      "outputs": [
        {
          "output_type": "execute_result",
          "data": {
            "text/plain": [
              "<matplotlib.legend.Legend at 0x7ba9b0c4a740>"
            ]
          },
          "metadata": {},
          "execution_count": 16
        },
        {
          "output_type": "display_data",
          "data": {
            "text/plain": [
              "<Figure size 640x480 with 1 Axes>"
            ],
            "image/png": "[encoded data removed]"
          },
          "metadata": {}
        }
      ]
    },
    {
      "cell_type": "markdown",
      "source": [
        "# Test Proportions"
      ],
      "metadata": {
        "id": "kBJsPz6cPSwA"
      }
    },
    {
      "cell_type": "code",
      "source": [
        "fig = plt.figure(figsize=(10,3))\n",
        "ax1 = fig.add_subplot(121)\n",
        "ax2 = fig.add_subplot(122)\n",
        "\n",
        "summer_m = counts_m[7] * 1.0 / norm_m #fraction of members riding in summer\n",
        "winter_m = counts_m[1] * 1.0 / norm_m  #fraction of members riding in winter\n",
        "esummer_m = error_m_jul / norm_m  #error on fraction number of members riding in summer\n",
        "ewinter_m = error_m_jan / norm_m #error on fraction number of members riding in winter\n",
        "\n",
        "summer_c = counts_c[7] * 1.0 / norm_c #fraction of casuals riding in summer\n",
        "winter_c = counts_c[1] * 1.0 / norm_c    #fraction of casuals riding in winter\n",
        "esummer_c = error_c_jul / norm_c  #error on fraction number of casuals riding in summer\n",
        "ewinter_c = error_c_jan / norm_c #error on fraction number of casuals riding in winter\n",
        "\n",
        "print(\"Members: summer:{0:.3f}, winter:{1:.3f}, summer error:{2:.3f}, winter error:{3:.3f}\"\\\n",
        "      .format(summer_m, winter_m, esummer_m, ewinter_m))\n",
        "print(\"Casuals: summer:{0:.3f}, winter:{1:.3f}, summer error:{2:.3f}, winter error:{3:.3f}\"\\\n",
        "      .format(summer_c, winter_c, esummer_c, ewinter_c))\n",
        "\n",
        "ax1.errorbar([0.4], [summer_m], yerr=[esummer_m], fmt='o-', label='Members')\n",
        "ax1.errorbar([0.2], [summer_c], yerr=[esummer_c], fmt='o-', label='Casuals')\n",
        "ax1.set_xlim(0, 0.5)\n",
        "ax2.errorbar([0.4], [winter_m], yerr=[ewinter_m], fmt='o-', label='Members')\n",
        "ax2.errorbar([0.2], [winter_c], yerr=[ewinter_c], fmt='o-', label='Casuals')\n",
        "ax2.set_xlim(0, 0.5)\n",
        "ax1.set_title(\"Summer Rides\")\n",
        "ax2.set_title(\"Winter Rides\")\n",
        "ax1.set_ylabel(\"Fraction of normalized rides by Member Type\")\n",
        "ax2.set_ylabel(\"Fraction of normalized rides by Member Type\")\n",
        "ax1.set_xticks([])\n",
        "ax2.set_xticks([])\n",
        "plt.xlim(-0.5, 1.5)\n",
        "plt.legend()\n",
        "plt.tight_layout()\n",
        "plt.show()"
      ],
      "metadata": {
        "colab": {
          "base_uri": "https://localhost:8080/",
          "height": 344
        },
        "id": "_jW4ukgzPXKW",
        "outputId": "a644d2c9-81dd-4d71-81cd-fcc5cbd4705e"
      },
      "execution_count": null,
      "outputs": [
        {
          "output_type": "stream",
          "name": "stdout",
          "text": [
            "Members: summer:0.764, winter:0.235, summer error:0.005, winter error:0.002\n",
            "Casuals: summer:0.863, winter:0.136, summer error:0.006, winter error:0.002\n"
          ]
        },
        {
          "output_type": "display_data",
          "data": {
            "text/plain": [
              "<Figure size 1000x300 with 2 Axes>"
            ],
            "image/png": "[encoded data removed]"
          },
          "metadata": {}
        }
      ]
    },
    {
      "cell_type": "markdown",
      "source": [
        "# Z Test\n",
        "This should be a z test because we're comparing two proportions and we can assume the dataset is Guassian (because of the large size)."
      ],
      "metadata": {
        "id": "haUxG6TGU7rR"
      }
    }
  ]
}