{
  "nbformat": 4,
  "nbformat_minor": 0,
  "metadata": {
    "colab": {
      "provenance": [],
      "authorship_tag": "ABX9TyOZvE9QK47G3HxjnVXIBZz/",
      "include_colab_link": true
    },
    "kernelspec": {
      "name": "python3",
      "display_name": "Python 3"
    },
    "language_info": {
      "name": "python"
    }
  },
  "cells": [
    {
      "cell_type": "markdown",
      "metadata": {
        "id": "view-in-github",
        "colab_type": "text"
      },
      "source": [
        "<a href=\"https://colab.research.google.com/github/gkmurphy/PUS2024_GMurphy/blob/main/HW2_CitiBikes_GwenMurphy.ipynb\" target=\"_parent\"><img src=\"https://colab.research.google.com/assets/colab-badge.svg\" alt=\"Open In Colab\"/></a>"
      ]
    },
    {
      "cell_type": "markdown",
      "source": [
        "# Experimental Design\n",
        "**Observation/Question:** There appears to be more people biking in non-winter months. This may be because people are biking for pleasure (customers) to enjoy warmer weather, whereas those biking in winter are using a bike as their main form of transportation (subscribers). So, there are more overall bikers in non-winter from both groups, compared to mostly subscribers biking in winter. Are there significantly more subscribers biking in winter than customers as compared to the same groups biking in non-winter?\n",
        "\n",
        "Winter is defined as December, January, February whereas non-winter is all other months.\n",
        "\n",
        "---------------------------------------------------------------------\n",
        "\n",
        "Due to memory issues we'll be comparing January (winter) to July (non-winter) instead of 3 months vs 9 months it's 1 month vs 1 month.\n",
        "\n",
        "---------------------------------------------------------------------\n",
        "\n",
        "\n",
        "**Significance Threshold:** 0.05\n",
        "\n",
        "**Null Hypothesis:** The proportion of subscribers (S) biking in winter is the same or less than the proportion of customers (C) compared to the proportion of subscribers biking in non-winter months compared to customers.\n",
        "# _$H_0$_ : $\\frac{S_{\\mathrm{winter}}}{S_{\\mathrm{total}}} <= \\frac{C_{\\mathrm{winter}}}{C_{\\mathrm{total}}}$\n",
        "\n",
        "\n",
        "**Alternative Hypothesis:** The proportion of subscribers (S) biking in winter is higher than the proportion of customers (C) compared to the proportion of subscribers biking in non-winter months compared to customers.\n",
        "# _$H_1$_ : $\\frac{S_{\\mathrm{winter}}}{S_{\\mathrm{total}}} > \\frac{C_{\\mathrm{winter}}}{C_{\\mathrm{total}}}$\n",
        "\n",
        "\n",
        "\n",
        "\n"
      ],
      "metadata": {
        "id": "00VkRQ6PYrlg"
      }
    },
    {
      "cell_type": "markdown",
      "source": [
        "# Data Upload - Too Large Issues\n",
        "Let me know if you have feedback on how to make the original comparison work."
      ],
      "metadata": {
        "id": "hubgoQt4Bq5A"
      }
    },
    {
      "cell_type": "code",
      "source": [
        "#I used a lot of google and a little ChatGBT to help making a fx to combine the files\n",
        "#To deal with size constraints and weirdly named files, extra zips - crash central\n",
        "#Admittedly this is a little slow to get all of the data.. maybe 20 min\n",
        "\n",
        "def process_and_append_citibike_data(months, folder_path, output_file, chunk_size=100000):\n",
        "    # Loop through the months and load the corresponding CSV files from the folder\n",
        "    for month in months:\n",
        "        # Search for files that match the month (e.g., '202301')\n",
        "        for file_name in os.listdir(folder_path):\n",
        "            # Check if the file name starts with the month and ends with '.csv'\n",
        "            if file_name.startswith(month) and file_name.endswith('.csv'):\n",
        "                file_path = os.path.join(folder_path, file_name)\n",
        "                print(f\"Processing file: {file_path}\")\n",
        "\n",
        "                # Read the CSV file in chunks\n",
        "                chunk_iter = pd.read_csv(file_path, chunksize=chunk_size, low_memory=False)\n",
        "\n",
        "                # Process each chunk and append it directly to the output file\n",
        "                for i, chunk in enumerate(chunk_iter):\n",
        "                    if i == 0 and month == months[0]:\n",
        "                        # Write the first chunk with headers to a new file\n",
        "                        chunk.to_csv(output_file, mode='w', index=False)\n",
        "                    else:\n",
        "                        # Append subsequent chunks without headers\n",
        "                        chunk.to_csv(output_file, mode='a', header=False, index=False)\n",
        "\n",
        "    print(f\"Data successfully written to {output_file}\")\n",
        "\n",
        "#Call the Fx\n",
        "winter_months = ['202301', '202302', '202312']\n",
        "output_file = 'winter_citibike_data.csv'\n",
        "process_and_append_citibike_data(winter_months, folder_path, output_file)\n",
        "\n",
        "all_months = ['202301', '202302', '202303', '202304', '202305', '202306',\n",
        "              '202307', '202308', '202309', '202310', '202311', '202312']\n",
        "output_file_all = 'full_year_citibike_data.csv'\n",
        "process_and_append_citibike_data(all_months, folder_path, output_file_all)"
      ],
      "metadata": {
        "colab": {
          "base_uri": "https://localhost:8080/"
        },
        "id": "X20TK7NvaWfO",
        "outputId": "788a370f-e9ae-4d69-e7ff-00bdab8fae42"
      },
      "execution_count": 7,
      "outputs": [
        {
          "output_type": "stream",
          "name": "stdout",
          "text": [
            "Processing file: ./2023-citibike-tripdata/202301-citibike-tripdata_2.csv\n",
            "Processing file: ./2023-citibike-tripdata/202301-citibike-tripdata_1.csv\n",
            "Processing file: ./2023-citibike-tripdata/202302-citibike-tripdata_2.csv\n",
            "Processing file: ./2023-citibike-tripdata/202302-citibike-tripdata_1.csv\n",
            "Processing file: ./2023-citibike-tripdata/202312-citibike-tripdata_2.csv\n",
            "Processing file: ./2023-citibike-tripdata/202312-citibike-tripdata_1.csv\n",
            "Processing file: ./2023-citibike-tripdata/202312-citibike-tripdata_3.csv\n",
            "Data successfully written to winter_citibike_data.csv\n",
            "Processing file: ./2023-citibike-tripdata/202301-citibike-tripdata_2.csv\n",
            "Processing file: ./2023-citibike-tripdata/202301-citibike-tripdata_1.csv\n",
            "Processing file: ./2023-citibike-tripdata/202302-citibike-tripdata_2.csv\n",
            "Processing file: ./2023-citibike-tripdata/202302-citibike-tripdata_1.csv\n",
            "Processing file: ./2023-citibike-tripdata/202303-citibike-tripdata_2.csv\n",
            "Processing file: ./2023-citibike-tripdata/202303-citibike-tripdata_1.csv\n",
            "Processing file: ./2023-citibike-tripdata/202303-citibike-tripdata_3.csv\n",
            "Processing file: ./2023-citibike-tripdata/202304-citibike-tripdata_2.csv\n",
            "Processing file: ./2023-citibike-tripdata/202304-citibike-tripdata_1.csv\n",
            "Processing file: ./2023-citibike-tripdata/202304-citibike-tripdata_3.csv\n",
            "Processing file: ./2023-citibike-tripdata/202305-citibike-tripdata_4.csv\n",
            "Processing file: ./2023-citibike-tripdata/202305-citibike-tripdata_2.csv\n",
            "Processing file: ./2023-citibike-tripdata/202305-citibike-tripdata_1.csv\n",
            "Processing file: ./2023-citibike-tripdata/202305-citibike-tripdata_3.csv\n",
            "Processing file: ./2023-citibike-tripdata/202306-citibike-tripdata_3.csv\n",
            "Processing file: ./2023-citibike-tripdata/202306-citibike-tripdata_4.csv\n",
            "Processing file: ./2023-citibike-tripdata/202306-citibike-tripdata_1.csv\n",
            "Processing file: ./2023-citibike-tripdata/202306-citibike-tripdata_2.csv\n",
            "Processing file: ./2023-citibike-tripdata/202307-citibike-tripdata_2.csv\n",
            "Processing file: ./2023-citibike-tripdata/202307-citibike-tripdata_1.csv\n",
            "Processing file: ./2023-citibike-tripdata/202307-citibike-tripdata_4.csv\n",
            "Processing file: ./2023-citibike-tripdata/202307-citibike-tripdata_3.csv\n",
            "Processing file: ./2023-citibike-tripdata/202308-citibike-tripdata_1.csv\n",
            "Processing file: ./2023-citibike-tripdata/202308-citibike-tripdata_3.csv\n",
            "Processing file: ./2023-citibike-tripdata/202308-citibike-tripdata_4.csv\n",
            "Processing file: ./2023-citibike-tripdata/202308-citibike-tripdata_2.csv\n",
            "Processing file: ./2023-citibike-tripdata/202309-citibike-tripdata_2.csv\n",
            "Processing file: ./2023-citibike-tripdata/202309-citibike-tripdata_1.csv\n",
            "Processing file: ./2023-citibike-tripdata/202309-citibike-tripdata_4.csv\n",
            "Processing file: ./2023-citibike-tripdata/202309-citibike-tripdata_3.csv\n",
            "Processing file: ./2023-citibike-tripdata/202310-citibike-tripdata_2.csv\n",
            "Processing file: ./2023-citibike-tripdata/202310-citibike-tripdata_4.csv\n",
            "Processing file: ./2023-citibike-tripdata/202310-citibike-tripdata_1.csv\n",
            "Processing file: ./2023-citibike-tripdata/202310-citibike-tripdata_3.csv\n",
            "Processing file: ./2023-citibike-tripdata/202311-citibike-tripdata_1.csv\n",
            "Processing file: ./2023-citibike-tripdata/202311-citibike-tripdata_3.csv\n",
            "Processing file: ./2023-citibike-tripdata/202311-citibike-tripdata_2.csv\n",
            "Processing file: ./2023-citibike-tripdata/202312-citibike-tripdata_2.csv\n",
            "Processing file: ./2023-citibike-tripdata/202312-citibike-tripdata_1.csv\n",
            "Processing file: ./2023-citibike-tripdata/202312-citibike-tripdata_3.csv\n",
            "Data successfully written to full_year_citibike_data.csv\n"
          ]
        }
      ]
    },
    {
      "cell_type": "code",
      "source": [
        "def extract_zip_files(folder_path): #extract 2023 data now\n",
        "    for file_name in os.listdir(folder_path):\n",
        "        if file_name.endswith('.zip'):\n",
        "            file_path = os.path.join(folder_path, file_name)\n",
        "\n",
        "            # Extract the zip file\n",
        "            with zipfile.ZipFile(file_path, 'r') as zip_ref:\n",
        "                zip_ref.extractall(folder_path)\n",
        "                print(f\"Extracted: {file_name}\")\n",
        "\n",
        "# Path to the folder where the zip files are located (and then extracted)\n",
        "folder_path = './2023-citibike-tripdata'\n",
        "\n",
        "# Extract all zip files\n",
        "extract_zip_files(folder_path)"
      ],
      "metadata": {
        "colab": {
          "base_uri": "https://localhost:8080/"
        },
        "id": "72WGmGjZs6aY",
        "outputId": "5b26864e-630c-4b7d-d684-469a1e7c5dcf"
      },
      "execution_count": 4,
      "outputs": [
        {
          "output_type": "stream",
          "name": "stdout",
          "text": [
            "Extracted: 202304-citibike-tripdata.zip\n",
            "Extracted: 202302-citibike-tripdata.zip\n",
            "Extracted: 202303-citibike-tripdata.zip\n",
            "Extracted: 202307-citibike-tripdata.zip\n",
            "Extracted: 202311-citibike-tripdata.zip\n",
            "Extracted: 202301-citibike-tripdata.zip\n",
            "Extracted: 202306-citibike-tripdata.zip\n",
            "Extracted: 202310-citibike-tripdata.zip\n",
            "Extracted: 202308-citibike-tripdata.zip\n",
            "Extracted: 202312-citibike-tripdata.zip\n",
            "Extracted: 202305-citibike-tripdata.zip\n",
            "Extracted: 202309-citibike-tripdata.zip\n"
          ]
        }
      ]
    },
    {
      "cell_type": "code",
      "source": [
        "# List all files in the extraction folder\n",
        "folder_path = './2023-citibike-tripdata'\n",
        "extracted_files = os.listdir(folder_path)\n",
        "\n",
        "print(\"Extracted Files:\", extracted_files)\n"
      ],
      "metadata": {
        "colab": {
          "base_uri": "https://localhost:8080/"
        },
        "id": "jFudDiLavrlA",
        "outputId": "2241ea3a-1eb1-4364-b874-e58acd5a12d9"
      },
      "execution_count": 4,
      "outputs": [
        {
          "output_type": "stream",
          "name": "stdout",
          "text": [
            "Extracted Files: ['202305-citibike-tripdata_4.csv', '202301-citibike-tripdata_2.csv', '202301-citibike-tripdata_1.csv', '202306-citibike-tripdata_3.csv', '202304-citibike-tripdata.zip', '202310-citibike-tripdata_2.csv', '202310-citibike-tripdata_4.csv', '202306-citibike-tripdata_4.csv', '202304-citibike-tripdata_2.csv', '202302-citibike-tripdata.zip', '202306-citibike-tripdata_1.csv', '202303-citibike-tripdata.zip', '202304-citibike-tripdata_1.csv', '202312-citibike-tripdata_2.csv', '202311-citibike-tripdata_1.csv', '202310-citibike-tripdata_1.csv', '202307-citibike-tripdata_2.csv', '202309-citibike-tripdata_2.csv', '202307-citibike-tripdata.zip', '202311-citibike-tripdata.zip', '202301-citibike-tripdata.zip', '202302-citibike-tripdata_2.csv', '202307-citibike-tripdata_1.csv', '202303-citibike-tripdata_2.csv', '202306-citibike-tripdata.zip', '202310-citibike-tripdata.zip', '202308-citibike-tripdata.zip', '202307-citibike-tripdata_4.csv', '202312-citibike-tripdata.zip', '202305-citibike-tripdata.zip', '202304-citibike-tripdata_3.csv', '202309-citibike-tripdata_1.csv', '202312-citibike-tripdata_1.csv', '202310-citibike-tripdata_3.csv', '202308-citibike-tripdata_1.csv', '202303-citibike-tripdata_1.csv', '202308-citibike-tripdata_3.csv', '202308-citibike-tripdata_4.csv', '202309-citibike-tripdata_4.csv', '202305-citibike-tripdata_2.csv', '202308-citibike-tripdata_2.csv', '202306-citibike-tripdata_2.csv', '202307-citibike-tripdata_3.csv', '202302-citibike-tripdata_1.csv', '202311-citibike-tripdata_3.csv', '202312-citibike-tripdata_3.csv', '202303-citibike-tripdata_3.csv', '202305-citibike-tripdata_1.csv', '202305-citibike-tripdata_3.csv', '202311-citibike-tripdata_2.csv', '202309-citibike-tripdata_3.csv', '202309-citibike-tripdata.zip']\n"
          ]
        }
      ]
    },
    {
      "cell_type": "code",
      "source": [
        "# Load only the 'usertype' column from the winter and full-year data to make it smaller\n",
        "#checked the csv and it's called member_casual\n",
        "cbWinter23 = pd.read_csv('winter_citibike_data.csv', usecols=['member_casual'], low_memory=False)\n",
        "cbAll23 = pd.read_csv('full_year_citibike_data.csv', usecols=['member_casual'], low_memory=False)\n",
        "\n",
        "# Show the first few rows of both dataframes\n",
        "print(cbWinter23.head())\n",
        "print(cbAll23.head())\n",
        "\n"
      ],
      "metadata": {
        "id": "5UAepf4y1eUI"
      },
      "execution_count": null,
      "outputs": []
    },
    {
      "cell_type": "code",
      "source": [
        "print(cbWinter23.columns)\n",
        "print(cbAll23.columns)"
      ],
      "metadata": {
        "colab": {
          "base_uri": "https://localhost:8080/",
          "height": 159
        },
        "id": "UQ1KOxtN6WY1",
        "outputId": "7ff0d1aa-2437-4dd6-a995-dbf2b47e5909"
      },
      "execution_count": 1,
      "outputs": [
        {
          "output_type": "error",
          "ename": "NameError",
          "evalue": "name 'cbWinter23' is not defined",
          "traceback": [
            "\u001b[0;31m---------------------------------------------------------------------------\u001b[0m",
            "\u001b[0;31mNameError\u001b[0m                                 Traceback (most recent call last)",
            "\u001b[0;32m<ipython-input-1-ee0e93888820>\u001b[0m in \u001b[0;36m<cell line: 1>\u001b[0;34m()\u001b[0m\n\u001b[0;32m----> 1\u001b[0;31m \u001b[0mprint\u001b[0m\u001b[0;34m(\u001b[0m\u001b[0mcbWinter23\u001b[0m\u001b[0;34m.\u001b[0m\u001b[0mcolumns\u001b[0m\u001b[0;34m)\u001b[0m\u001b[0;34m\u001b[0m\u001b[0;34m\u001b[0m\u001b[0m\n\u001b[0m\u001b[1;32m      2\u001b[0m \u001b[0mprint\u001b[0m\u001b[0;34m(\u001b[0m\u001b[0mcbAll23\u001b[0m\u001b[0;34m.\u001b[0m\u001b[0mcolumns\u001b[0m\u001b[0;34m)\u001b[0m\u001b[0;34m\u001b[0m\u001b[0;34m\u001b[0m\u001b[0m\n",
            "\u001b[0;31mNameError\u001b[0m: name 'cbWinter23' is not defined"
          ]
        }
      ]
    },
    {
      "cell_type": "markdown",
      "source": [
        "# Data Upload"
      ],
      "metadata": {
        "id": "y_Ntj0gUB01T"
      }
    },
    {
      "cell_type": "code",
      "execution_count": 48,
      "metadata": {
        "id": "GCwgJRVkYoC4"
      },
      "outputs": [],
      "source": [
        "import pandas as pd\n",
        "import zipfile\n",
        "import requests\n",
        "import os\n",
        "from io import BytesIO\n",
        "import matplotlib.pyplot as plt\n"
      ]
    },
    {
      "cell_type": "code",
      "source": [
        "datestring = '2023'\n",
        "\n",
        "url = \"https://s3.amazonaws.com/tripdata/\" + datestring + \"-citibike-tripdata.zip\"\n",
        "\n",
        "# Download the zip file\n",
        "response = requests.get(url)\n",
        "zip_file = zipfile.ZipFile(BytesIO(response.content))\n",
        "zip_file.extractall()"
      ],
      "metadata": {
        "colab": {
          "base_uri": "https://localhost:8080/",
          "height": 356
        },
        "id": "aWZ7KjXBYql9",
        "outputId": "42c2200b-15af-45a6-a41a-81d51a918ae4"
      },
      "execution_count": 49,
      "outputs": [
        {
          "output_type": "error",
          "ename": "KeyboardInterrupt",
          "evalue": "",
          "traceback": [
            "\u001b[0;31m---------------------------------------------------------------------------\u001b[0m",
            "\u001b[0;31mKeyboardInterrupt\u001b[0m                         Traceback (most recent call last)",
            "\u001b[0;32m<ipython-input-49-2a2f20285b15>\u001b[0m in \u001b[0;36m<cell line: 6>\u001b[0;34m()\u001b[0m\n\u001b[1;32m      4\u001b[0m \u001b[0;34m\u001b[0m\u001b[0m\n\u001b[1;32m      5\u001b[0m \u001b[0;31m# Download the zip file\u001b[0m\u001b[0;34m\u001b[0m\u001b[0;34m\u001b[0m\u001b[0m\n\u001b[0;32m----> 6\u001b[0;31m \u001b[0mresponse\u001b[0m \u001b[0;34m=\u001b[0m \u001b[0mrequests\u001b[0m\u001b[0;34m.\u001b[0m\u001b[0mget\u001b[0m\u001b[0;34m(\u001b[0m\u001b[0murl\u001b[0m\u001b[0;34m)\u001b[0m\u001b[0;34m\u001b[0m\u001b[0;34m\u001b[0m\u001b[0m\n\u001b[0m\u001b[1;32m      7\u001b[0m \u001b[0mzip_file\u001b[0m \u001b[0;34m=\u001b[0m \u001b[0mzipfile\u001b[0m\u001b[0;34m.\u001b[0m\u001b[0mZipFile\u001b[0m\u001b[0;34m(\u001b[0m\u001b[0mBytesIO\u001b[0m\u001b[0;34m(\u001b[0m\u001b[0mresponse\u001b[0m\u001b[0;34m.\u001b[0m\u001b[0mcontent\u001b[0m\u001b[0;34m)\u001b[0m\u001b[0;34m)\u001b[0m\u001b[0;34m\u001b[0m\u001b[0;34m\u001b[0m\u001b[0m\n\u001b[1;32m      8\u001b[0m \u001b[0mzip_file\u001b[0m\u001b[0;34m.\u001b[0m\u001b[0mextractall\u001b[0m\u001b[0;34m(\u001b[0m\u001b[0;34m)\u001b[0m\u001b[0;34m\u001b[0m\u001b[0;34m\u001b[0m\u001b[0m\n",
            "\u001b[0;32m/usr/local/lib/python3.10/dist-packages/requests/api.py\u001b[0m in \u001b[0;36mget\u001b[0;34m(url, params, **kwargs)\u001b[0m\n\u001b[1;32m     71\u001b[0m     \"\"\"\n\u001b[1;32m     72\u001b[0m \u001b[0;34m\u001b[0m\u001b[0m\n\u001b[0;32m---> 73\u001b[0;31m     \u001b[0;32mreturn\u001b[0m \u001b[0mrequest\u001b[0m\u001b[0;34m(\u001b[0m\u001b[0;34m\"get\"\u001b[0m\u001b[0;34m,\u001b[0m \u001b[0murl\u001b[0m\u001b[0;34m,\u001b[0m \u001b[0mparams\u001b[0m\u001b[0;34m=\u001b[0m\u001b[0mparams\u001b[0m\u001b[0;34m,\u001b[0m \u001b[0;34m**\u001b[0m\u001b[0mkwargs\u001b[0m\u001b[0;34m)\u001b[0m\u001b[0;34m\u001b[0m\u001b[0;34m\u001b[0m\u001b[0m\n\u001b[0m\u001b[1;32m     74\u001b[0m \u001b[0;34m\u001b[0m\u001b[0m\n\u001b[1;32m     75\u001b[0m \u001b[0;34m\u001b[0m\u001b[0m\n",
            "\u001b[0;32m/usr/local/lib/python3.10/dist-packages/requests/api.py\u001b[0m in \u001b[0;36mrequest\u001b[0;34m(method, url, **kwargs)\u001b[0m\n\u001b[1;32m     57\u001b[0m     \u001b[0;31m# cases, and look like a memory leak in others.\u001b[0m\u001b[0;34m\u001b[0m\u001b[0;34m\u001b[0m\u001b[0m\n\u001b[1;32m     58\u001b[0m     \u001b[0;32mwith\u001b[0m \u001b[0msessions\u001b[0m\u001b[0;34m.\u001b[0m\u001b[0mSession\u001b[0m\u001b[0;34m(\u001b[0m\u001b[0;34m)\u001b[0m \u001b[0;32mas\u001b[0m \u001b[0msession\u001b[0m\u001b[0;34m:\u001b[0m\u001b[0;34m\u001b[0m\u001b[0;34m\u001b[0m\u001b[0m\n\u001b[0;32m---> 59\u001b[0;31m         \u001b[0;32mreturn\u001b[0m \u001b[0msession\u001b[0m\u001b[0;34m.\u001b[0m\u001b[0mrequest\u001b[0m\u001b[0;34m(\u001b[0m\u001b[0mmethod\u001b[0m\u001b[0;34m=\u001b[0m\u001b[0mmethod\u001b[0m\u001b[0;34m,\u001b[0m \u001b[0murl\u001b[0m\u001b[0;34m=\u001b[0m\u001b[0murl\u001b[0m\u001b[0;34m,\u001b[0m \u001b[0;34m**\u001b[0m\u001b[0mkwargs\u001b[0m\u001b[0;34m)\u001b[0m\u001b[0;34m\u001b[0m\u001b[0;34m\u001b[0m\u001b[0m\n\u001b[0m\u001b[1;32m     60\u001b[0m \u001b[0;34m\u001b[0m\u001b[0m\n\u001b[1;32m     61\u001b[0m \u001b[0;34m\u001b[0m\u001b[0m\n",
            "\u001b[0;32m/usr/local/lib/python3.10/dist-packages/requests/sessions.py\u001b[0m in \u001b[0;36mrequest\u001b[0;34m(self, method, url, params, data, headers, cookies, files, auth, timeout, allow_redirects, proxies, hooks, stream, verify, cert, json)\u001b[0m\n\u001b[1;32m    587\u001b[0m         }\n\u001b[1;32m    588\u001b[0m         \u001b[0msend_kwargs\u001b[0m\u001b[0;34m.\u001b[0m\u001b[0mupdate\u001b[0m\u001b[0;34m(\u001b[0m\u001b[0msettings\u001b[0m\u001b[0;34m)\u001b[0m\u001b[0;34m\u001b[0m\u001b[0;34m\u001b[0m\u001b[0m\n\u001b[0;32m--> 589\u001b[0;31m         \u001b[0mresp\u001b[0m \u001b[0;34m=\u001b[0m \u001b[0mself\u001b[0m\u001b[0;34m.\u001b[0m\u001b[0msend\u001b[0m\u001b[0;34m(\u001b[0m\u001b[0mprep\u001b[0m\u001b[0;34m,\u001b[0m \u001b[0;34m**\u001b[0m\u001b[0msend_kwargs\u001b[0m\u001b[0;34m)\u001b[0m\u001b[0;34m\u001b[0m\u001b[0;34m\u001b[0m\u001b[0m\n\u001b[0m\u001b[1;32m    590\u001b[0m \u001b[0;34m\u001b[0m\u001b[0m\n\u001b[1;32m    591\u001b[0m         \u001b[0;32mreturn\u001b[0m \u001b[0mresp\u001b[0m\u001b[0;34m\u001b[0m\u001b[0;34m\u001b[0m\u001b[0m\n",
            "\u001b[0;32m/usr/local/lib/python3.10/dist-packages/requests/sessions.py\u001b[0m in \u001b[0;36msend\u001b[0;34m(self, request, **kwargs)\u001b[0m\n\u001b[1;32m    744\u001b[0m \u001b[0;34m\u001b[0m\u001b[0m\n\u001b[1;32m    745\u001b[0m         \u001b[0;32mif\u001b[0m \u001b[0;32mnot\u001b[0m \u001b[0mstream\u001b[0m\u001b[0;34m:\u001b[0m\u001b[0;34m\u001b[0m\u001b[0;34m\u001b[0m\u001b[0m\n\u001b[0;32m--> 746\u001b[0;31m             \u001b[0mr\u001b[0m\u001b[0;34m.\u001b[0m\u001b[0mcontent\u001b[0m\u001b[0;34m\u001b[0m\u001b[0;34m\u001b[0m\u001b[0m\n\u001b[0m\u001b[1;32m    747\u001b[0m \u001b[0;34m\u001b[0m\u001b[0m\n\u001b[1;32m    748\u001b[0m         \u001b[0;32mreturn\u001b[0m \u001b[0mr\u001b[0m\u001b[0;34m\u001b[0m\u001b[0;34m\u001b[0m\u001b[0m\n",
            "\u001b[0;32m/usr/local/lib/python3.10/dist-packages/requests/models.py\u001b[0m in \u001b[0;36mcontent\u001b[0;34m(self)\u001b[0m\n\u001b[1;32m    900\u001b[0m                 \u001b[0mself\u001b[0m\u001b[0;34m.\u001b[0m\u001b[0m_content\u001b[0m \u001b[0;34m=\u001b[0m \u001b[0;32mNone\u001b[0m\u001b[0;34m\u001b[0m\u001b[0;34m\u001b[0m\u001b[0m\n\u001b[1;32m    901\u001b[0m             \u001b[0;32melse\u001b[0m\u001b[0;34m:\u001b[0m\u001b[0;34m\u001b[0m\u001b[0;34m\u001b[0m\u001b[0m\n\u001b[0;32m--> 902\u001b[0;31m                 \u001b[0mself\u001b[0m\u001b[0;34m.\u001b[0m\u001b[0m_content\u001b[0m \u001b[0;34m=\u001b[0m \u001b[0;34mb\"\"\u001b[0m\u001b[0;34m.\u001b[0m\u001b[0mjoin\u001b[0m\u001b[0;34m(\u001b[0m\u001b[0mself\u001b[0m\u001b[0;34m.\u001b[0m\u001b[0miter_content\u001b[0m\u001b[0;34m(\u001b[0m\u001b[0mCONTENT_CHUNK_SIZE\u001b[0m\u001b[0;34m)\u001b[0m\u001b[0;34m)\u001b[0m \u001b[0;32mor\u001b[0m \u001b[0;34mb\"\"\u001b[0m\u001b[0;34m\u001b[0m\u001b[0;34m\u001b[0m\u001b[0m\n\u001b[0m\u001b[1;32m    903\u001b[0m \u001b[0;34m\u001b[0m\u001b[0m\n\u001b[1;32m    904\u001b[0m         \u001b[0mself\u001b[0m\u001b[0;34m.\u001b[0m\u001b[0m_content_consumed\u001b[0m \u001b[0;34m=\u001b[0m \u001b[0;32mTrue\u001b[0m\u001b[0;34m\u001b[0m\u001b[0;34m\u001b[0m\u001b[0m\n",
            "\u001b[0;32m/usr/local/lib/python3.10/dist-packages/requests/models.py\u001b[0m in \u001b[0;36mgenerate\u001b[0;34m()\u001b[0m\n\u001b[1;32m    818\u001b[0m             \u001b[0;32mif\u001b[0m \u001b[0mhasattr\u001b[0m\u001b[0;34m(\u001b[0m\u001b[0mself\u001b[0m\u001b[0;34m.\u001b[0m\u001b[0mraw\u001b[0m\u001b[0;34m,\u001b[0m \u001b[0;34m\"stream\"\u001b[0m\u001b[0;34m)\u001b[0m\u001b[0;34m:\u001b[0m\u001b[0;34m\u001b[0m\u001b[0;34m\u001b[0m\u001b[0m\n\u001b[1;32m    819\u001b[0m                 \u001b[0;32mtry\u001b[0m\u001b[0;34m:\u001b[0m\u001b[0;34m\u001b[0m\u001b[0;34m\u001b[0m\u001b[0m\n\u001b[0;32m--> 820\u001b[0;31m                     \u001b[0;32myield\u001b[0m \u001b[0;32mfrom\u001b[0m \u001b[0mself\u001b[0m\u001b[0;34m.\u001b[0m\u001b[0mraw\u001b[0m\u001b[0;34m.\u001b[0m\u001b[0mstream\u001b[0m\u001b[0;34m(\u001b[0m\u001b[0mchunk_size\u001b[0m\u001b[0;34m,\u001b[0m \u001b[0mdecode_content\u001b[0m\u001b[0;34m=\u001b[0m\u001b[0;32mTrue\u001b[0m\u001b[0;34m)\u001b[0m\u001b[0;34m\u001b[0m\u001b[0;34m\u001b[0m\u001b[0m\n\u001b[0m\u001b[1;32m    821\u001b[0m                 \u001b[0;32mexcept\u001b[0m \u001b[0mProtocolError\u001b[0m \u001b[0;32mas\u001b[0m \u001b[0me\u001b[0m\u001b[0;34m:\u001b[0m\u001b[0;34m\u001b[0m\u001b[0;34m\u001b[0m\u001b[0m\n\u001b[1;32m    822\u001b[0m                     \u001b[0;32mraise\u001b[0m \u001b[0mChunkedEncodingError\u001b[0m\u001b[0;34m(\u001b[0m\u001b[0me\u001b[0m\u001b[0;34m)\u001b[0m\u001b[0;34m\u001b[0m\u001b[0;34m\u001b[0m\u001b[0m\n",
            "\u001b[0;32m/usr/local/lib/python3.10/dist-packages/urllib3/response.py\u001b[0m in \u001b[0;36mstream\u001b[0;34m(self, amt, decode_content)\u001b[0m\n\u001b[1;32m    934\u001b[0m         \u001b[0;32melse\u001b[0m\u001b[0;34m:\u001b[0m\u001b[0;34m\u001b[0m\u001b[0;34m\u001b[0m\u001b[0m\n\u001b[1;32m    935\u001b[0m             \u001b[0;32mwhile\u001b[0m \u001b[0;32mnot\u001b[0m \u001b[0mis_fp_closed\u001b[0m\u001b[0;34m(\u001b[0m\u001b[0mself\u001b[0m\u001b[0;34m.\u001b[0m\u001b[0m_fp\u001b[0m\u001b[0;34m)\u001b[0m \u001b[0;32mor\u001b[0m \u001b[0mlen\u001b[0m\u001b[0;34m(\u001b[0m\u001b[0mself\u001b[0m\u001b[0;34m.\u001b[0m\u001b[0m_decoded_buffer\u001b[0m\u001b[0;34m)\u001b[0m \u001b[0;34m>\u001b[0m \u001b[0;36m0\u001b[0m\u001b[0;34m:\u001b[0m\u001b[0;34m\u001b[0m\u001b[0;34m\u001b[0m\u001b[0m\n\u001b[0;32m--> 936\u001b[0;31m                 \u001b[0mdata\u001b[0m \u001b[0;34m=\u001b[0m \u001b[0mself\u001b[0m\u001b[0;34m.\u001b[0m\u001b[0mread\u001b[0m\u001b[0;34m(\u001b[0m\u001b[0mamt\u001b[0m\u001b[0;34m=\u001b[0m\u001b[0mamt\u001b[0m\u001b[0;34m,\u001b[0m \u001b[0mdecode_content\u001b[0m\u001b[0;34m=\u001b[0m\u001b[0mdecode_content\u001b[0m\u001b[0;34m)\u001b[0m\u001b[0;34m\u001b[0m\u001b[0;34m\u001b[0m\u001b[0m\n\u001b[0m\u001b[1;32m    937\u001b[0m \u001b[0;34m\u001b[0m\u001b[0m\n\u001b[1;32m    938\u001b[0m                 \u001b[0;32mif\u001b[0m \u001b[0mdata\u001b[0m\u001b[0;34m:\u001b[0m\u001b[0;34m\u001b[0m\u001b[0;34m\u001b[0m\u001b[0m\n",
            "\u001b[0;32m/usr/local/lib/python3.10/dist-packages/urllib3/response.py\u001b[0m in \u001b[0;36mread\u001b[0;34m(self, amt, decode_content, cache_content)\u001b[0m\n\u001b[1;32m    877\u001b[0m                 \u001b[0;32mreturn\u001b[0m \u001b[0mself\u001b[0m\u001b[0;34m.\u001b[0m\u001b[0m_decoded_buffer\u001b[0m\u001b[0;34m.\u001b[0m\u001b[0mget\u001b[0m\u001b[0;34m(\u001b[0m\u001b[0mamt\u001b[0m\u001b[0;34m)\u001b[0m\u001b[0;34m\u001b[0m\u001b[0;34m\u001b[0m\u001b[0m\n\u001b[1;32m    878\u001b[0m \u001b[0;34m\u001b[0m\u001b[0m\n\u001b[0;32m--> 879\u001b[0;31m         \u001b[0mdata\u001b[0m \u001b[0;34m=\u001b[0m \u001b[0mself\u001b[0m\u001b[0;34m.\u001b[0m\u001b[0m_raw_read\u001b[0m\u001b[0;34m(\u001b[0m\u001b[0mamt\u001b[0m\u001b[0;34m)\u001b[0m\u001b[0;34m\u001b[0m\u001b[0;34m\u001b[0m\u001b[0m\n\u001b[0m\u001b[1;32m    880\u001b[0m \u001b[0;34m\u001b[0m\u001b[0m\n\u001b[1;32m    881\u001b[0m         \u001b[0mflush_decoder\u001b[0m \u001b[0;34m=\u001b[0m \u001b[0mamt\u001b[0m \u001b[0;32mis\u001b[0m \u001b[0;32mNone\u001b[0m \u001b[0;32mor\u001b[0m \u001b[0;34m(\u001b[0m\u001b[0mamt\u001b[0m \u001b[0;34m!=\u001b[0m \u001b[0;36m0\u001b[0m \u001b[0;32mand\u001b[0m \u001b[0;32mnot\u001b[0m \u001b[0mdata\u001b[0m\u001b[0;34m)\u001b[0m\u001b[0;34m\u001b[0m\u001b[0;34m\u001b[0m\u001b[0m\n",
            "\u001b[0;32m/usr/local/lib/python3.10/dist-packages/urllib3/response.py\u001b[0m in \u001b[0;36m_raw_read\u001b[0;34m(self, amt)\u001b[0m\n\u001b[1;32m    812\u001b[0m \u001b[0;34m\u001b[0m\u001b[0m\n\u001b[1;32m    813\u001b[0m         \u001b[0;32mwith\u001b[0m \u001b[0mself\u001b[0m\u001b[0;34m.\u001b[0m\u001b[0m_error_catcher\u001b[0m\u001b[0;34m(\u001b[0m\u001b[0;34m)\u001b[0m\u001b[0;34m:\u001b[0m\u001b[0;34m\u001b[0m\u001b[0;34m\u001b[0m\u001b[0m\n\u001b[0;32m--> 814\u001b[0;31m             \u001b[0mdata\u001b[0m \u001b[0;34m=\u001b[0m \u001b[0mself\u001b[0m\u001b[0;34m.\u001b[0m\u001b[0m_fp_read\u001b[0m\u001b[0;34m(\u001b[0m\u001b[0mamt\u001b[0m\u001b[0;34m)\u001b[0m \u001b[0;32mif\u001b[0m \u001b[0;32mnot\u001b[0m \u001b[0mfp_closed\u001b[0m \u001b[0;32melse\u001b[0m \u001b[0;34mb\"\"\u001b[0m\u001b[0;34m\u001b[0m\u001b[0;34m\u001b[0m\u001b[0m\n\u001b[0m\u001b[1;32m    815\u001b[0m             \u001b[0;32mif\u001b[0m \u001b[0mamt\u001b[0m \u001b[0;32mis\u001b[0m \u001b[0;32mnot\u001b[0m \u001b[0;32mNone\u001b[0m \u001b[0;32mand\u001b[0m \u001b[0mamt\u001b[0m \u001b[0;34m!=\u001b[0m \u001b[0;36m0\u001b[0m \u001b[0;32mand\u001b[0m \u001b[0;32mnot\u001b[0m \u001b[0mdata\u001b[0m\u001b[0;34m:\u001b[0m\u001b[0;34m\u001b[0m\u001b[0;34m\u001b[0m\u001b[0m\n\u001b[1;32m    816\u001b[0m                 \u001b[0;31m# Platform-specific: Buggy versions of Python.\u001b[0m\u001b[0;34m\u001b[0m\u001b[0;34m\u001b[0m\u001b[0m\n",
            "\u001b[0;32m/usr/local/lib/python3.10/dist-packages/urllib3/response.py\u001b[0m in \u001b[0;36m_fp_read\u001b[0;34m(self, amt)\u001b[0m\n\u001b[1;32m    797\u001b[0m         \u001b[0;32melse\u001b[0m\u001b[0;34m:\u001b[0m\u001b[0;34m\u001b[0m\u001b[0;34m\u001b[0m\u001b[0m\n\u001b[1;32m    798\u001b[0m             \u001b[0;31m# StringIO doesn't like amt=None\u001b[0m\u001b[0;34m\u001b[0m\u001b[0;34m\u001b[0m\u001b[0m\n\u001b[0;32m--> 799\u001b[0;31m             \u001b[0;32mreturn\u001b[0m \u001b[0mself\u001b[0m\u001b[0;34m.\u001b[0m\u001b[0m_fp\u001b[0m\u001b[0;34m.\u001b[0m\u001b[0mread\u001b[0m\u001b[0;34m(\u001b[0m\u001b[0mamt\u001b[0m\u001b[0;34m)\u001b[0m \u001b[0;32mif\u001b[0m \u001b[0mamt\u001b[0m \u001b[0;32mis\u001b[0m \u001b[0;32mnot\u001b[0m \u001b[0;32mNone\u001b[0m \u001b[0;32melse\u001b[0m \u001b[0mself\u001b[0m\u001b[0;34m.\u001b[0m\u001b[0m_fp\u001b[0m\u001b[0;34m.\u001b[0m\u001b[0mread\u001b[0m\u001b[0;34m(\u001b[0m\u001b[0;34m)\u001b[0m\u001b[0;34m\u001b[0m\u001b[0;34m\u001b[0m\u001b[0m\n\u001b[0m\u001b[1;32m    800\u001b[0m \u001b[0;34m\u001b[0m\u001b[0m\n\u001b[1;32m    801\u001b[0m     def _raw_read(\n",
            "\u001b[0;32m/usr/lib/python3.10/http/client.py\u001b[0m in \u001b[0;36mread\u001b[0;34m(self, amt)\u001b[0m\n\u001b[1;32m    464\u001b[0m                 \u001b[0;31m# clip the read to the \"end of response\"\u001b[0m\u001b[0;34m\u001b[0m\u001b[0;34m\u001b[0m\u001b[0m\n\u001b[1;32m    465\u001b[0m                 \u001b[0mamt\u001b[0m \u001b[0;34m=\u001b[0m \u001b[0mself\u001b[0m\u001b[0;34m.\u001b[0m\u001b[0mlength\u001b[0m\u001b[0;34m\u001b[0m\u001b[0;34m\u001b[0m\u001b[0m\n\u001b[0;32m--> 466\u001b[0;31m             \u001b[0ms\u001b[0m \u001b[0;34m=\u001b[0m \u001b[0mself\u001b[0m\u001b[0;34m.\u001b[0m\u001b[0mfp\u001b[0m\u001b[0;34m.\u001b[0m\u001b[0mread\u001b[0m\u001b[0;34m(\u001b[0m\u001b[0mamt\u001b[0m\u001b[0;34m)\u001b[0m\u001b[0;34m\u001b[0m\u001b[0;34m\u001b[0m\u001b[0m\n\u001b[0m\u001b[1;32m    467\u001b[0m             \u001b[0;32mif\u001b[0m \u001b[0;32mnot\u001b[0m \u001b[0ms\u001b[0m \u001b[0;32mand\u001b[0m \u001b[0mamt\u001b[0m\u001b[0;34m:\u001b[0m\u001b[0;34m\u001b[0m\u001b[0;34m\u001b[0m\u001b[0m\n\u001b[1;32m    468\u001b[0m                 \u001b[0;31m# Ideally, we would raise IncompleteRead if the content-length\u001b[0m\u001b[0;34m\u001b[0m\u001b[0;34m\u001b[0m\u001b[0m\n",
            "\u001b[0;32m/usr/lib/python3.10/socket.py\u001b[0m in \u001b[0;36mreadinto\u001b[0;34m(self, b)\u001b[0m\n\u001b[1;32m    703\u001b[0m         \u001b[0;32mwhile\u001b[0m \u001b[0;32mTrue\u001b[0m\u001b[0;34m:\u001b[0m\u001b[0;34m\u001b[0m\u001b[0;34m\u001b[0m\u001b[0m\n\u001b[1;32m    704\u001b[0m             \u001b[0;32mtry\u001b[0m\u001b[0;34m:\u001b[0m\u001b[0;34m\u001b[0m\u001b[0;34m\u001b[0m\u001b[0m\n\u001b[0;32m--> 705\u001b[0;31m                 \u001b[0;32mreturn\u001b[0m \u001b[0mself\u001b[0m\u001b[0;34m.\u001b[0m\u001b[0m_sock\u001b[0m\u001b[0;34m.\u001b[0m\u001b[0mrecv_into\u001b[0m\u001b[0;34m(\u001b[0m\u001b[0mb\u001b[0m\u001b[0;34m)\u001b[0m\u001b[0;34m\u001b[0m\u001b[0;34m\u001b[0m\u001b[0m\n\u001b[0m\u001b[1;32m    706\u001b[0m             \u001b[0;32mexcept\u001b[0m \u001b[0mtimeout\u001b[0m\u001b[0;34m:\u001b[0m\u001b[0;34m\u001b[0m\u001b[0;34m\u001b[0m\u001b[0m\n\u001b[1;32m    707\u001b[0m                 \u001b[0mself\u001b[0m\u001b[0;34m.\u001b[0m\u001b[0m_timeout_occurred\u001b[0m \u001b[0;34m=\u001b[0m \u001b[0;32mTrue\u001b[0m\u001b[0;34m\u001b[0m\u001b[0;34m\u001b[0m\u001b[0m\n",
            "\u001b[0;32m/usr/lib/python3.10/ssl.py\u001b[0m in \u001b[0;36mrecv_into\u001b[0;34m(self, buffer, nbytes, flags)\u001b[0m\n\u001b[1;32m   1301\u001b[0m                   \u001b[0;34m\"non-zero flags not allowed in calls to recv_into() on %s\"\u001b[0m \u001b[0;34m%\u001b[0m\u001b[0;34m\u001b[0m\u001b[0;34m\u001b[0m\u001b[0m\n\u001b[1;32m   1302\u001b[0m                   self.__class__)\n\u001b[0;32m-> 1303\u001b[0;31m             \u001b[0;32mreturn\u001b[0m \u001b[0mself\u001b[0m\u001b[0;34m.\u001b[0m\u001b[0mread\u001b[0m\u001b[0;34m(\u001b[0m\u001b[0mnbytes\u001b[0m\u001b[0;34m,\u001b[0m \u001b[0mbuffer\u001b[0m\u001b[0;34m)\u001b[0m\u001b[0;34m\u001b[0m\u001b[0;34m\u001b[0m\u001b[0m\n\u001b[0m\u001b[1;32m   1304\u001b[0m         \u001b[0;32melse\u001b[0m\u001b[0;34m:\u001b[0m\u001b[0;34m\u001b[0m\u001b[0;34m\u001b[0m\u001b[0m\n\u001b[1;32m   1305\u001b[0m             \u001b[0;32mreturn\u001b[0m \u001b[0msuper\u001b[0m\u001b[0;34m(\u001b[0m\u001b[0;34m)\u001b[0m\u001b[0;34m.\u001b[0m\u001b[0mrecv_into\u001b[0m\u001b[0;34m(\u001b[0m\u001b[0mbuffer\u001b[0m\u001b[0;34m,\u001b[0m \u001b[0mnbytes\u001b[0m\u001b[0;34m,\u001b[0m \u001b[0mflags\u001b[0m\u001b[0;34m)\u001b[0m\u001b[0;34m\u001b[0m\u001b[0;34m\u001b[0m\u001b[0m\n",
            "\u001b[0;32m/usr/lib/python3.10/ssl.py\u001b[0m in \u001b[0;36mread\u001b[0;34m(self, len, buffer)\u001b[0m\n\u001b[1;32m   1157\u001b[0m         \u001b[0;32mtry\u001b[0m\u001b[0;34m:\u001b[0m\u001b[0;34m\u001b[0m\u001b[0;34m\u001b[0m\u001b[0m\n\u001b[1;32m   1158\u001b[0m             \u001b[0;32mif\u001b[0m \u001b[0mbuffer\u001b[0m \u001b[0;32mis\u001b[0m \u001b[0;32mnot\u001b[0m \u001b[0;32mNone\u001b[0m\u001b[0;34m:\u001b[0m\u001b[0;34m\u001b[0m\u001b[0;34m\u001b[0m\u001b[0m\n\u001b[0;32m-> 1159\u001b[0;31m                 \u001b[0;32mreturn\u001b[0m \u001b[0mself\u001b[0m\u001b[0;34m.\u001b[0m\u001b[0m_sslobj\u001b[0m\u001b[0;34m.\u001b[0m\u001b[0mread\u001b[0m\u001b[0;34m(\u001b[0m\u001b[0mlen\u001b[0m\u001b[0;34m,\u001b[0m \u001b[0mbuffer\u001b[0m\u001b[0;34m)\u001b[0m\u001b[0;34m\u001b[0m\u001b[0;34m\u001b[0m\u001b[0m\n\u001b[0m\u001b[1;32m   1160\u001b[0m             \u001b[0;32melse\u001b[0m\u001b[0;34m:\u001b[0m\u001b[0;34m\u001b[0m\u001b[0;34m\u001b[0m\u001b[0m\n\u001b[1;32m   1161\u001b[0m                 \u001b[0;32mreturn\u001b[0m \u001b[0mself\u001b[0m\u001b[0;34m.\u001b[0m\u001b[0m_sslobj\u001b[0m\u001b[0;34m.\u001b[0m\u001b[0mread\u001b[0m\u001b[0;34m(\u001b[0m\u001b[0mlen\u001b[0m\u001b[0;34m)\u001b[0m\u001b[0;34m\u001b[0m\u001b[0;34m\u001b[0m\u001b[0m\n",
            "\u001b[0;31mKeyboardInterrupt\u001b[0m: "
          ]
        }
      ]
    },
    {
      "cell_type": "code",
      "source": [
        "!ls #go thru folders to find data\n",
        "!ls 2023-citibike-tripdata"
      ],
      "metadata": {
        "collapsed": true,
        "id": "pbNKSh6YtC1b"
      },
      "execution_count": null,
      "outputs": []
    },
    {
      "cell_type": "code",
      "source": [
        "def process_and_append_citibike_data(months, folder_path, output_file, chunk_size=100000):\n",
        "    # Loop through the months and load the corresponding CSV files from the folder\n",
        "    for month in months:\n",
        "        # Search for files that match the month (e.g., '202301')\n",
        "        for file_name in os.listdir(folder_path):\n",
        "            # Check if the file name starts with the month and ends with '.csv'\n",
        "            if file_name.startswith(month) and file_name.endswith('.csv'):\n",
        "                file_path = os.path.join(folder_path, file_name)\n",
        "                print(f\"Processing file: {file_path}\")\n",
        "\n",
        "                # Read the CSV file in chunks\n",
        "                chunk_iter = pd.read_csv(file_path, chunksize=chunk_size, low_memory=False)\n",
        "\n",
        "                # Process each chunk and append it directly to the output file\n",
        "                for i, chunk in enumerate(chunk_iter):\n",
        "                    if i == 0 and month == months[0]:\n",
        "                        # Write the first chunk with headers to a new file\n",
        "                        chunk.to_csv(output_file, mode='w', index=False)\n",
        "                    else:\n",
        "                        # Append subsequent chunks without headers\n",
        "                        chunk.to_csv(output_file, mode='a', header=False, index=False)\n",
        "\n",
        "    print(f\"Data successfully written to {output_file}\")\n",
        "\n",
        "# Call the function for January and July data only\n",
        "jan_july_months = ['202301', '202307']\n",
        "output_file_jan_july = 'jan_july_citibike_data.csv'\n",
        "folder_path = './2023-citibike-tripdata'\n",
        "\n",
        "process_and_append_citibike_data(jan_july_months, folder_path, output_file_jan_july)"
      ],
      "metadata": {
        "id": "BhWDiNKdCaKl"
      },
      "execution_count": null,
      "outputs": []
    },
    {
      "cell_type": "code",
      "source": [
        "cbJanJul = pd.read_csv('jan_july_citibike_data.csv')"
      ],
      "metadata": {
        "id": "FgSu1GFtD75Z"
      },
      "execution_count": null,
      "outputs": []
    },
    {
      "cell_type": "code",
      "source": [
        "cbJanJul.columns\n",
        "cbJanJul[\"date\"] = pd.to_datetime(cbJanJul.started_at)\n",
        "cbJanJul.drop(['ride_id', 'rideable_type', 'started_at', 'ended_at',\n",
        "       'start_station_name', 'start_station_id', 'end_station_name',\n",
        "       'end_station_id', 'start_lat', 'start_lng', 'end_lat', 'end_lng',], axis=1, inplace=True)\n",
        "\n",
        "print(cbJanJul.head())\n"
      ],
      "metadata": {
        "id": "tXQi2q-eEYae"
      },
      "execution_count": null,
      "outputs": []
    },
    {
      "cell_type": "code",
      "source": [
        "cbJanJul"
      ],
      "metadata": {
        "colab": {
          "base_uri": "https://localhost:8080/",
          "height": 424
        },
        "id": "z0uhdPX0Iaip",
        "outputId": "fa744695-18e4-400f-f1d5-dd4c2c6942cd"
      },
      "execution_count": 50,
      "outputs": [
        {
          "output_type": "execute_result",
          "data": {
            "text/plain": [
              "        member_casual                    date  month\n",
              "0              member 2023-01-07 15:36:53.430      1\n",
              "1              member 2023-01-04 19:23:01.234      1\n",
              "2              member 2023-01-20 09:22:19.894      1\n",
              "3              member 2023-01-24 10:38:01.135      1\n",
              "4              member 2023-01-13 10:17:38.192      1\n",
              "...               ...                     ...    ...\n",
              "4659576        member 2023-07-31 15:33:25.123      7\n",
              "4659577        member 2023-07-13 08:29:35.084      7\n",
              "4659578        member 2023-07-06 20:24:12.792      7\n",
              "4659579        member 2023-07-31 17:56:42.850      7\n",
              "4659580        member 2023-07-29 01:04:15.496      7\n",
              "\n",
              "[4659581 rows x 3 columns]"
            ],
            "text/html": [
              "\n",
              "  <div id=\"df-cf725cfb-9ca6-4c2b-a5dd-d3c9ba94ccfb\" class=\"colab-df-container\">\n",
              "    <div>\n",
              "<style scoped>\n",
              "    .dataframe tbody tr th:only-of-type {\n",
              "        vertical-align: middle;\n",
              "    }\n",
              "\n",
              "    .dataframe tbody tr th {\n",
              "        vertical-align: top;\n",
              "    }\n",
              "\n",
              "    .dataframe thead th {\n",
              "        text-align: right;\n",
              "    }\n",
              "</style>\n",
              "<table border=\"1\" class=\"dataframe\">\n",
              "  <thead>\n",
              "    <tr style=\"text-align: right;\">\n",
              "      <th></th>\n",
              "      <th>member_casual</th>\n",
              "      <th>date</th>\n",
              "      <th>month</th>\n",
              "    </tr>\n",
              "  </thead>\n",
              "  <tbody>\n",
              "    <tr>\n",
              "      <th>0</th>\n",
              "      <td>member</td>\n",
              "      <td>2023-01-07 15:36:53.430</td>\n",
              "      <td>1</td>\n",
              "    </tr>\n",
              "    <tr>\n",
              "      <th>1</th>\n",
              "      <td>member</td>\n",
              "      <td>2023-01-04 19:23:01.234</td>\n",
              "      <td>1</td>\n",
              "    </tr>\n",
              "    <tr>\n",
              "      <th>2</th>\n",
              "      <td>member</td>\n",
              "      <td>2023-01-20 09:22:19.894</td>\n",
              "      <td>1</td>\n",
              "    </tr>\n",
              "    <tr>\n",
              "      <th>3</th>\n",
              "      <td>member</td>\n",
              "      <td>2023-01-24 10:38:01.135</td>\n",
              "      <td>1</td>\n",
              "    </tr>\n",
              "    <tr>\n",
              "      <th>4</th>\n",
              "      <td>member</td>\n",
              "      <td>2023-01-13 10:17:38.192</td>\n",
              "      <td>1</td>\n",
              "    </tr>\n",
              "    <tr>\n",
              "      <th>...</th>\n",
              "      <td>...</td>\n",
              "      <td>...</td>\n",
              "      <td>...</td>\n",
              "    </tr>\n",
              "    <tr>\n",
              "      <th>4659576</th>\n",
              "      <td>member</td>\n",
              "      <td>2023-07-31 15:33:25.123</td>\n",
              "      <td>7</td>\n",
              "    </tr>\n",
              "    <tr>\n",
              "      <th>4659577</th>\n",
              "      <td>member</td>\n",
              "      <td>2023-07-13 08:29:35.084</td>\n",
              "      <td>7</td>\n",
              "    </tr>\n",
              "    <tr>\n",
              "      <th>4659578</th>\n",
              "      <td>member</td>\n",
              "      <td>2023-07-06 20:24:12.792</td>\n",
              "      <td>7</td>\n",
              "    </tr>\n",
              "    <tr>\n",
              "      <th>4659579</th>\n",
              "      <td>member</td>\n",
              "      <td>2023-07-31 17:56:42.850</td>\n",
              "      <td>7</td>\n",
              "    </tr>\n",
              "    <tr>\n",
              "      <th>4659580</th>\n",
              "      <td>member</td>\n",
              "      <td>2023-07-29 01:04:15.496</td>\n",
              "      <td>7</td>\n",
              "    </tr>\n",
              "  </tbody>\n",
              "</table>\n",
              "<p>4659581 rows × 3 columns</p>\n",
              "</div>\n",
              "    <div class=\"colab-df-buttons\">\n",
              "\n",
              "  <div class=\"colab-df-container\">\n",
              "    <button class=\"colab-df-convert\" onclick=\"convertToInteractive('df-cf725cfb-9ca6-4c2b-a5dd-d3c9ba94ccfb')\"\n",
              "            title=\"Convert this dataframe to an interactive table.\"\n",
              "            style=\"display:none;\">\n",
              "\n",
              "  <svg xmlns=\"http://www.w3.org/2000/svg\" height=\"24px\" viewBox=\"0 -960 960 960\">\n",
              "    <path d=\"M120-120v-720h720v720H120Zm60-500h600v-160H180v160Zm220 220h160v-160H400v160Zm0 220h160v-160H400v160ZM180-400h160v-160H180v160Zm440 0h160v-160H620v160ZM180-180h160v-160H180v160Zm440 0h160v-160H620v160Z\"/>\n",
              "  </svg>\n",
              "    </button>\n",
              "\n",
              "  <style>\n",
              "    .colab-df-container {\n",
              "      display:flex;\n",
              "      gap: 12px;\n",
              "    }\n",
              "\n",
              "    .colab-df-convert {\n",
              "      background-color: #E8F0FE;\n",
              "      border: none;\n",
              "      border-radius: 50%;\n",
              "      cursor: pointer;\n",
              "      display: none;\n",
              "      fill: #1967D2;\n",
              "      height: 32px;\n",
              "      padding: 0 0 0 0;\n",
              "      width: 32px;\n",
              "    }\n",
              "\n",
              "    .colab-df-convert:hover {\n",
              "      background-color: #E2EBFA;\n",
              "      box-shadow: 0px 1px 2px rgba(60, 64, 67, 0.3), 0px 1px 3px 1px rgba(60, 64, 67, 0.15);\n",
              "      fill: #174EA6;\n",
              "    }\n",
              "\n",
              "    .colab-df-buttons div {\n",
              "      margin-bottom: 4px;\n",
              "    }\n",
              "\n",
              "    [theme=dark] .colab-df-convert {\n",
              "      background-color: #3B4455;\n",
              "      fill: #D2E3FC;\n",
              "    }\n",
              "\n",
              "    [theme=dark] .colab-df-convert:hover {\n",
              "      background-color: #434B5C;\n",
              "      box-shadow: 0px 1px 3px 1px rgba(0, 0, 0, 0.15);\n",
              "      filter: drop-shadow(0px 1px 2px rgba(0, 0, 0, 0.3));\n",
              "      fill: #FFFFFF;\n",
              "    }\n",
              "  </style>\n",
              "\n",
              "    <script>\n",
              "      const buttonEl =\n",
              "        document.querySelector('#df-cf725cfb-9ca6-4c2b-a5dd-d3c9ba94ccfb button.colab-df-convert');\n",
              "      buttonEl.style.display =\n",
              "        google.colab.kernel.accessAllowed ? 'block' : 'none';\n",
              "\n",
              "      async function convertToInteractive(key) {\n",
              "        const element = document.querySelector('#df-cf725cfb-9ca6-4c2b-a5dd-d3c9ba94ccfb');\n",
              "        const dataTable =\n",
              "          await google.colab.kernel.invokeFunction('convertToInteractive',\n",
              "                                                    [key], {});\n",
              "        if (!dataTable) return;\n",
              "\n",
              "        const docLinkHtml = 'Like what you see? Visit the ' +\n",
              "          '<a target=\"_blank\" href=https://colab.research.google.com/notebooks/data_table.ipynb>data table notebook</a>'\n",
              "          + ' to learn more about interactive tables.';\n",
              "        element.innerHTML = '';\n",
              "        dataTable['output_type'] = 'display_data';\n",
              "        await google.colab.output.renderOutput(dataTable, element);\n",
              "        const docLink = document.createElement('div');\n",
              "        docLink.innerHTML = docLinkHtml;\n",
              "        element.appendChild(docLink);\n",
              "      }\n",
              "    </script>\n",
              "  </div>\n",
              "\n",
              "\n",
              "<div id=\"df-38837faa-4651-4a52-8ade-a032d1535a5c\">\n",
              "  <button class=\"colab-df-quickchart\" onclick=\"quickchart('df-38837faa-4651-4a52-8ade-a032d1535a5c')\"\n",
              "            title=\"Suggest charts\"\n",
              "            style=\"display:none;\">\n",
              "\n",
              "<svg xmlns=\"http://www.w3.org/2000/svg\" height=\"24px\"viewBox=\"0 0 24 24\"\n",
              "     width=\"24px\">\n",
              "    <g>\n",
              "        <path d=\"M19 3H5c-1.1 0-2 .9-2 2v14c0 1.1.9 2 2 2h14c1.1 0 2-.9 2-2V5c0-1.1-.9-2-2-2zM9 17H7v-7h2v7zm4 0h-2V7h2v10zm4 0h-2v-4h2v4z\"/>\n",
              "    </g>\n",
              "</svg>\n",
              "  </button>\n",
              "\n",
              "<style>\n",
              "  .colab-df-quickchart {\n",
              "      --bg-color: #E8F0FE;\n",
              "      --fill-color: #1967D2;\n",
              "      --hover-bg-color: #E2EBFA;\n",
              "      --hover-fill-color: #174EA6;\n",
              "      --disabled-fill-color: #AAA;\n",
              "      --disabled-bg-color: #DDD;\n",
              "  }\n",
              "\n",
              "  [theme=dark] .colab-df-quickchart {\n",
              "      --bg-color: #3B4455;\n",
              "      --fill-color: #D2E3FC;\n",
              "      --hover-bg-color: #434B5C;\n",
              "      --hover-fill-color: #FFFFFF;\n",
              "      --disabled-bg-color: #3B4455;\n",
              "      --disabled-fill-color: #666;\n",
              "  }\n",
              "\n",
              "  .colab-df-quickchart {\n",
              "    background-color: var(--bg-color);\n",
              "    border: none;\n",
              "    border-radius: 50%;\n",
              "    cursor: pointer;\n",
              "    display: none;\n",
              "    fill: var(--fill-color);\n",
              "    height: 32px;\n",
              "    padding: 0;\n",
              "    width: 32px;\n",
              "  }\n",
              "\n",
              "  .colab-df-quickchart:hover {\n",
              "    background-color: var(--hover-bg-color);\n",
              "    box-shadow: 0 1px 2px rgba(60, 64, 67, 0.3), 0 1px 3px 1px rgba(60, 64, 67, 0.15);\n",
              "    fill: var(--button-hover-fill-color);\n",
              "  }\n",
              "\n",
              "  .colab-df-quickchart-complete:disabled,\n",
              "  .colab-df-quickchart-complete:disabled:hover {\n",
              "    background-color: var(--disabled-bg-color);\n",
              "    fill: var(--disabled-fill-color);\n",
              "    box-shadow: none;\n",
              "  }\n",
              "\n",
              "  .colab-df-spinner {\n",
              "    border: 2px solid var(--fill-color);\n",
              "    border-color: transparent;\n",
              "    border-bottom-color: var(--fill-color);\n",
              "    animation:\n",
              "      spin 1s steps(1) infinite;\n",
              "  }\n",
              "\n",
              "  @keyframes spin {\n",
              "    0% {\n",
              "      border-color: transparent;\n",
              "      border-bottom-color: var(--fill-color);\n",
              "      border-left-color: var(--fill-color);\n",
              "    }\n",
              "    20% {\n",
              "      border-color: transparent;\n",
              "      border-left-color: var(--fill-color);\n",
              "      border-top-color: var(--fill-color);\n",
              "    }\n",
              "    30% {\n",
              "      border-color: transparent;\n",
              "      border-left-color: var(--fill-color);\n",
              "      border-top-color: var(--fill-color);\n",
              "      border-right-color: var(--fill-color);\n",
              "    }\n",
              "    40% {\n",
              "      border-color: transparent;\n",
              "      border-right-color: var(--fill-color);\n",
              "      border-top-color: var(--fill-color);\n",
              "    }\n",
              "    60% {\n",
              "      border-color: transparent;\n",
              "      border-right-color: var(--fill-color);\n",
              "    }\n",
              "    80% {\n",
              "      border-color: transparent;\n",
              "      border-right-color: var(--fill-color);\n",
              "      border-bottom-color: var(--fill-color);\n",
              "    }\n",
              "    90% {\n",
              "      border-color: transparent;\n",
              "      border-bottom-color: var(--fill-color);\n",
              "    }\n",
              "  }\n",
              "</style>\n",
              "\n",
              "  <script>\n",
              "    async function quickchart(key) {\n",
              "      const quickchartButtonEl =\n",
              "        document.querySelector('#' + key + ' button');\n",
              "      quickchartButtonEl.disabled = true;  // To prevent multiple clicks.\n",
              "      quickchartButtonEl.classList.add('colab-df-spinner');\n",
              "      try {\n",
              "        const charts = await google.colab.kernel.invokeFunction(\n",
              "            'suggestCharts', [key], {});\n",
              "      } catch (error) {\n",
              "        console.error('Error during call to suggestCharts:', error);\n",
              "      }\n",
              "      quickchartButtonEl.classList.remove('colab-df-spinner');\n",
              "      quickchartButtonEl.classList.add('colab-df-quickchart-complete');\n",
              "    }\n",
              "    (() => {\n",
              "      let quickchartButtonEl =\n",
              "        document.querySelector('#df-38837faa-4651-4a52-8ade-a032d1535a5c button');\n",
              "      quickchartButtonEl.style.display =\n",
              "        google.colab.kernel.accessAllowed ? 'block' : 'none';\n",
              "    })();\n",
              "  </script>\n",
              "</div>\n",
              "\n",
              "  <div id=\"id_4d902011-556c-436d-bd69-f510ef51f7e1\">\n",
              "    <style>\n",
              "      .colab-df-generate {\n",
              "        background-color: #E8F0FE;\n",
              "        border: none;\n",
              "        border-radius: 50%;\n",
              "        cursor: pointer;\n",
              "        display: none;\n",
              "        fill: #1967D2;\n",
              "        height: 32px;\n",
              "        padding: 0 0 0 0;\n",
              "        width: 32px;\n",
              "      }\n",
              "\n",
              "      .colab-df-generate:hover {\n",
              "        background-color: #E2EBFA;\n",
              "        box-shadow: 0px 1px 2px rgba(60, 64, 67, 0.3), 0px 1px 3px 1px rgba(60, 64, 67, 0.15);\n",
              "        fill: #174EA6;\n",
              "      }\n",
              "\n",
              "      [theme=dark] .colab-df-generate {\n",
              "        background-color: #3B4455;\n",
              "        fill: #D2E3FC;\n",
              "      }\n",
              "\n",
              "      [theme=dark] .colab-df-generate:hover {\n",
              "        background-color: #434B5C;\n",
              "        box-shadow: 0px 1px 3px 1px rgba(0, 0, 0, 0.15);\n",
              "        filter: drop-shadow(0px 1px 2px rgba(0, 0, 0, 0.3));\n",
              "        fill: #FFFFFF;\n",
              "      }\n",
              "    </style>\n",
              "    <button class=\"colab-df-generate\" onclick=\"generateWithVariable('cbJanJul')\"\n",
              "            title=\"Generate code using this dataframe.\"\n",
              "            style=\"display:none;\">\n",
              "\n",
              "  <svg xmlns=\"http://www.w3.org/2000/svg\" height=\"24px\"viewBox=\"0 0 24 24\"\n",
              "       width=\"24px\">\n",
              "    <path d=\"M7,19H8.4L18.45,9,17,7.55,7,17.6ZM5,21V16.75L18.45,3.32a2,2,0,0,1,2.83,0l1.4,1.43a1.91,1.91,0,0,1,.58,1.4,1.91,1.91,0,0,1-.58,1.4L9.25,21ZM18.45,9,17,7.55Zm-12,3A5.31,5.31,0,0,0,4.9,8.1,5.31,5.31,0,0,0,1,6.5,5.31,5.31,0,0,0,4.9,4.9,5.31,5.31,0,0,0,6.5,1,5.31,5.31,0,0,0,8.1,4.9,5.31,5.31,0,0,0,12,6.5,5.46,5.46,0,0,0,6.5,12Z\"/>\n",
              "  </svg>\n",
              "    </button>\n",
              "    <script>\n",
              "      (() => {\n",
              "      const buttonEl =\n",
              "        document.querySelector('#id_4d902011-556c-436d-bd69-f510ef51f7e1 button.colab-df-generate');\n",
              "      buttonEl.style.display =\n",
              "        google.colab.kernel.accessAllowed ? 'block' : 'none';\n",
              "\n",
              "      buttonEl.onclick = () => {\n",
              "        google.colab.notebook.generateWithVariable('cbJanJul');\n",
              "      }\n",
              "      })();\n",
              "    </script>\n",
              "  </div>\n",
              "\n",
              "    </div>\n",
              "  </div>\n"
            ],
            "application/vnd.google.colaboratory.intrinsic+json": {
              "type": "dataframe",
              "variable_name": "cbJanJul"
            }
          },
          "metadata": {},
          "execution_count": 50
        }
      ]
    },
    {
      "cell_type": "markdown",
      "source": [
        "#Plot Member vs. Casual Data"
      ],
      "metadata": {
        "id": "cqaMwJPvFKF5"
      }
    },
    {
      "cell_type": "code",
      "source": [
        "# Adopted from Prof Fed's code\n",
        "\n",
        "#Memeber Rider Data\n",
        "cbJanJul_m = cbJanJul[cbJanJul['member_casual'] == 'member'].drop([\"member_casual\"], axis=1)\n",
        "counts_m = cbJanJul_m['date'].groupby([cbJanJul_m['date'].dt.month]).count()\n",
        "ax = counts_m.plot(kind=\"bar\", color='IndianRed', label='Member Rider')\n",
        "\n",
        "#Causual Rider Data\n",
        "cbJanJul_c = cbJanJul[cbJanJul['member_casual'] == 'casual'].drop([\"member_casual\"], axis=1)\n",
        "counts_c = cbJanJul_c['date'].groupby([cbJanJul_c['date'].dt.month]).count()\n",
        "\n",
        "ax = counts_c.plot(kind=\"bar\", color='SteelBlue', alpha=0.5, label='Casual Rider', ax=ax)\n",
        "\n",
        "# Customize x-axis labels for months (January and July)\n",
        "ax.set_xticks([0, 1])\n",
        "ax.set_xticklabels(['January', 'July'], rotation=0)\n",
        "\n",
        "# Set y-axis limits to fit everything\n",
        "ax.set_ylim(0, 3000000)\n",
        "plt.yticks(range(0, 3000001, 250000))\n",
        "\n",
        "# Set plot labels and title\n",
        "plt.legend()\n",
        "plt.title(\"Number of Rides by Member Type and Month\\nJanuary and July\")\n",
        "plt.ylabel(\"Number of Rides by Millions\")\n",
        "\n",
        "\n",
        "#Still pretty ugly..."
      ],
      "metadata": {
        "colab": {
          "base_uri": "https://localhost:8080/",
          "height": 510
        },
        "id": "vFg78JdhFJKA",
        "outputId": "7c250fe3-7fcf-4742-a43d-ef8ac950c1e2"
      },
      "execution_count": 45,
      "outputs": [
        {
          "output_type": "execute_result",
          "data": {
            "text/plain": [
              "Text(0, 0.5, 'Number of Rides by Millions')"
            ]
          },
          "metadata": {},
          "execution_count": 45
        },
        {
          "output_type": "display_data",
          "data": {
            "text/plain": [
              "<Figure size 640x480 with 1 Axes>"
            ],
            "image/png": "[encoded data removed]"
          },
          "metadata": {}
        }
      ]
    },
    {
      "cell_type": "markdown",
      "source": [
        "# Normalize for Proportions\n",
        "Fraction of members in january and july and casual riders from january and july\n"
      ],
      "metadata": {
        "id": "6-s2XMNoZdiE"
      }
    },
    {
      "cell_type": "code",
      "source": [
        "#Make sure this wasn't overwritten\n",
        "cbJanJul_m = cbJanJul[cbJanJul['member_casual'] == 'member']\n",
        "cbJanJul_c = cbJanJul[cbJanJul['member_casual'] == 'casual']\n",
        "\n",
        "norm_m = len(cbJanJul_m)\n",
        "error_m_jan = cbJanJul_m[cbJanJul_m['month'] == 1].groupby(cbJanJul_m['date'].dt.day)['date'].count().std()\n",
        "error_m_jul = cbJanJul_m[cbJanJul_m['month'] == 7].groupby(cbJanJul_m['date'].dt.day)['date'].count().std()\n",
        "\n",
        "norm_m, error_m_jan, error_m_jul\n"
      ],
      "metadata": {
        "colab": {
          "base_uri": "https://localhost:8080/"
        },
        "id": "6hnRnGoCNA1v",
        "outputId": "f6a1bef9-5c47-4146-911f-4e485960eea0"
      },
      "execution_count": 59,
      "outputs": [
        {
          "output_type": "execute_result",
          "data": {
            "text/plain": [
              "(3682317, 5997.524766854428, 17026.594340391683)"
            ]
          },
          "metadata": {},
          "execution_count": 59
        }
      ]
    },
    {
      "cell_type": "code",
      "source": [
        "norm_c = len(cbJanJul_c)\n",
        "error_c_jan = cbJanJul_c[cbJanJul_c['month'] == 1].groupby(cbJanJul_c['date'].dt.day)['date'].count().std()\n",
        "error_c_jul = cbJanJul_c[cbJanJul_c['month'] == 7].groupby(cbJanJul_c['date'].dt.day)['date'].count().std()\n",
        "\n",
        "\n",
        "norm_c, error_c_jan, error_c_jul"
      ],
      "metadata": {
        "colab": {
          "base_uri": "https://localhost:8080/"
        },
        "id": "HuOmwinQOq-_",
        "outputId": "c452cfcf-045d-4ec2-8446-22f7eda221ed"
      },
      "execution_count": 60,
      "outputs": [
        {
          "output_type": "execute_result",
          "data": {
            "text/plain": [
              "(977264, 1724.3698471883788, 5871.23503301505)"
            ]
          },
          "metadata": {},
          "execution_count": 60
        }
      ]
    },
    {
      "cell_type": "code",
      "source": [
        "ax=((counts_m) / norm_m).plot(kind=\"bar\",color='IndianRed', label='Member bikers')\n",
        "(counts_c / norm_c).plot(kind=\"bar\", alpha=0.5,\n",
        "                           color='SteelBlue', label='Casual bikers', ax=ax)\n",
        "ax.set_xticks([0, 1])\n",
        "ax.set_xticklabels(['January', 'July'], rotation=0)\n",
        "plt.ylabel(\"Number of Rides\")\n",
        "plt.legend()"
      ],
      "metadata": {
        "colab": {
          "base_uri": "https://localhost:8080/",
          "height": 466
        },
        "id": "iBI1usRXO4nQ",
        "outputId": "aa3ce1af-c650-4fae-8d44-826bc2286e27"
      },
      "execution_count": 61,
      "outputs": [
        {
          "output_type": "execute_result",
          "data": {
            "text/plain": [
              "<matplotlib.legend.Legend at 0x7ac94167c1c0>"
            ]
          },
          "metadata": {},
          "execution_count": 61
        },
        {
          "output_type": "display_data",
          "data": {
            "text/plain": [
              "<Figure size 640x480 with 1 Axes>"
            ],
            "image/png": "[encoded data removed]"
          },
          "metadata": {}
        }
      ]
    },
    {
      "cell_type": "markdown",
      "source": [
        "# Test Proportions"
      ],
      "metadata": {
        "id": "kBJsPz6cPSwA"
      }
    },
    {
      "cell_type": "code",
      "source": [
        "fig = plt.figure(figsize=(10,3))\n",
        "ax1 = fig.add_subplot(121)\n",
        "ax2 = fig.add_subplot(122)\n",
        "\n",
        "summer_m = counts_m[7] * 1.0 / norm_m #fraction of members riding in summer\n",
        "winter_m = counts_m[1] * 1.0 / norm_m  #fraction of members riding in winter\n",
        "esummer_m = error_m / norm_m  #error on fraction number of members riding in summer\n",
        "ewinter_m = error_m / norm_m #error on fraction number of members riding in winter\n",
        "\n",
        "summer_c = counts_c[7] * 1.0 / norm_c #fraction of casuals riding in summer\n",
        "winter_c = counts_c[1] * 1.0 / norm_c    #fraction of casuals riding in winter\n",
        "esummer_c = error_c / norm_c  #error on fraction number of casuals riding in summer\n",
        "ewinter_c = error_c / norm_c #error on fraction number of casuals riding in winter\n",
        "\n",
        "print(\"Members: summer:{0:.3f}, winter:{1:.3f}, summer error:{2:.3f}, winter error:{3:.3f}\"\\\n",
        "      .format(summer_m, winter_m, esummer_m, ewinter_m))\n",
        "print(\"Casuals: summer:{0:.3f}, winter:{1:.3f}, summer error:{2:.3f}, winter error:{3:.3f}\"\\\n",
        "      .format(summer_c, winter_c, esummer_c, ewinter_c))\n",
        "\n",
        "ax1.errorbar([0.4], [summer_m], yerr=[esummer_m], fmt='o-', label='Members')\n",
        "ax1.errorbar([0.2], [summer_c], yerr=[esummer_c], fmt='o-', label='Casuals')\n",
        "ax1.set_xlim(0, 0.5)\n",
        "ax2.errorbar([0.4], [winter_m], yerr=[ewinter_m], fmt='o-', label='Members')\n",
        "ax2.errorbar([0.2], [winter_c], yerr=[ewinter_c], fmt='o-', label='Casuals')\n",
        "ax2.set_xlim(0, 0.5)\n",
        "ax1.set_title(\"Summer Rides\")\n",
        "ax2.set_title(\"Winter Rides\")\n",
        "ax1.set_ylabel(\"Fraction of normalized rides by Member Type\")\n",
        "ax2.set_ylabel(\"Fraction of normalized rides by Member Type\")\n",
        "ax1.set_xticks([])\n",
        "ax2.set_xticks([])\n",
        "plt.xlim(-0.5, 1.5)\n",
        "plt.legend()\n",
        "plt.tight_layout()\n",
        "plt.show()\n",
        "\n",
        "\n",
        "#WHY ARE THERE NO LINES?\n",
        "#Because there's only one month vs 7 days?"
      ],
      "metadata": {
        "colab": {
          "base_uri": "https://localhost:8080/",
          "height": 341
        },
        "id": "_jW4ukgzPXKW",
        "outputId": "56cebe70-1a68-4657-973f-15004dea69ab"
      },
      "execution_count": 65,
      "outputs": [
        {
          "output_type": "stream",
          "name": "stdout",
          "text": [
            "Members: summer:0.764, winter:0.235, summer error:0.002, winter error:0.002\n",
            "Casuals: summer:0.863, winter:0.136, summer error:0.002, winter error:0.002\n"
          ]
        },
        {
          "output_type": "display_data",
          "data": {
            "text/plain": [
              "<Figure size 1000x300 with 2 Axes>"
            ],
            "image/png": "[encoded data removed]"
          },
          "metadata": {}
        }
      ]
    },
    {
      "cell_type": "markdown",
      "source": [
        "# Z Test\n",
        "To be run Next Week"
      ],
      "metadata": {
        "id": "haUxG6TGU7rR"
      }
    }
  ]
}