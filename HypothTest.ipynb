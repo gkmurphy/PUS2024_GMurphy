{
  "nbformat": 4,
  "nbformat_minor": 0,
  "metadata": {
    "colab": {
      "provenance": [],
      "authorship_tag": "ABX9TyO4egrLUfo2hVCxlAAEeXJP",
      "include_colab_link": true
    },
    "kernelspec": {
      "name": "python3",
      "display_name": "Python 3"
    },
    "language_info": {
      "name": "python"
    }
  },
  "cells": [
    {
      "cell_type": "markdown",
      "metadata": {
        "id": "view-in-github",
        "colab_type": "text"
      },
      "source": [
        "<a href=\"https://colab.research.google.com/github/gkmurphy/PUS2024_GMurphy/blob/main/HypothTest.ipynb\" target=\"_parent\"><img src=\"https://colab.research.google.com/assets/colab-badge.svg\" alt=\"Open In Colab\"/></a>"
      ]
    },
    {
      "cell_type": "code",
      "source": [
        "import pandas as pd\n",
        "import numpy as np"
      ],
      "metadata": {
        "id": "zVUvFc4QrRdY"
      },
      "execution_count": 1,
      "outputs": []
    },
    {
      "cell_type": "code",
      "source": [
        "tripdur = pd.read_csv(\"https://raw.githubusercontent.com/fedhere/FDSfE_FBianco/main/data/triptimes.csv\", header = None) # no headers - will ignore analysis"
      ],
      "metadata": {
        "id": "vfFwSN6VpGye"
      },
      "execution_count": 2,
      "outputs": []
    },
    {
      "cell_type": "code",
      "source": [
        "tripdur.describe()"
      ],
      "metadata": {
        "colab": {
          "base_uri": "https://localhost:8080/"
        },
        "id": "H-qcH8rGpldF",
        "outputId": "7da4ea92-4df2-447c-c5ad-f1049d48edbb"
      },
      "execution_count": 4,
      "outputs": [
        {
          "output_type": "execute_result",
          "data": {
            "text/plain": [
              "100"
            ]
          },
          "metadata": {},
          "execution_count": 4
        }
      ]
    },
    {
      "cell_type": "code",
      "source": [
        "N = len(tripdur)\n",
        "N"
      ],
      "metadata": {
        "colab": {
          "base_uri": "https://localhost:8080/"
        },
        "id": "5BYSIVSjpswi",
        "outputId": "ce7fe9e3-9b4a-424b-8cd5-4923f2bebb97"
      },
      "execution_count": 5,
      "outputs": [
        {
          "output_type": "execute_result",
          "data": {
            "text/plain": [
              "100"
            ]
          },
          "metadata": {},
          "execution_count": 5
        }
      ]
    },
    {
      "cell_type": "code",
      "source": [
        "xbar = tripdur[0].mean()\n",
        "mu = 34\n",
        "sig = 2.4"
      ],
      "metadata": {
        "id": "niXPVcZkpvBE"
      },
      "execution_count": 8,
      "outputs": []
    },
    {
      "cell_type": "code",
      "source": [
        "z = (mu-xbar) / (sig/np.sqrt(N))\n",
        "z"
      ],
      "metadata": {
        "colab": {
          "base_uri": "https://localhost:8080/"
        },
        "id": "4P0ZeXJaqBlm",
        "outputId": "399ea32f-666b-4c5b-9ccc-97e2bc257a34"
      },
      "execution_count": 9,
      "outputs": [
        {
          "output_type": "execute_result",
          "data": {
            "text/plain": [
              "-1.9423403679166582"
            ]
          },
          "metadata": {},
          "execution_count": 9
        }
      ]
    },
    {
      "cell_type": "markdown",
      "source": [
        "Cannot reject - within 2 sigmas"
      ],
      "metadata": {
        "id": "jG4OSFRHqJ7T"
      }
    }
  ]
}