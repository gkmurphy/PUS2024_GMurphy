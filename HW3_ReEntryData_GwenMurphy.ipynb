{
  "nbformat": 4,
  "nbformat_minor": 0,
  "metadata": {
    "colab": {
      "provenance": [],
      "authorship_tag": "ABX9TyPwGFUXKBNp3DAcaMKVHZnw",
      "include_colab_link": true
    },
    "kernelspec": {
      "name": "python3",
      "display_name": "Python 3"
    },
    "language_info": {
      "name": "python"
    }
  },
  "cells": [
    {
      "cell_type": "markdown",
      "metadata": {
        "id": "view-in-github",
        "colab_type": "text"
      },
      "source": [
        "<a href=\"https://colab.research.google.com/github/gkmurphy/PUS2024_GMurphy/blob/HW3/HW3_ReEntryData_GwenMurphy.ipynb\" target=\"_parent\"><img src=\"https://colab.research.google.com/assets/colab-badge.svg\" alt=\"Open In Colab\"/></a>"
      ]
    },
    {
      "cell_type": "code",
      "source": [
        "import numpy as np\n",
        "import pandas as pd\n",
        "\n",
        "def evalChisq(values):\n",
        "    values = np.array(values)\n",
        "    E = np.empty_like(values)\n",
        "    for j in range(len(values[0])):\n",
        "        for i in range(2):\n",
        "\n",
        "            E[i][j] = ((values[i,:].sum() * values[:,j].sum()) /\n",
        "                        (values).sum())\n",
        "    return ((values - E)**2 / E).sum()"
      ],
      "metadata": {
        "id": "O1fbp15uCGEQ"
      },
      "execution_count": 36,
      "outputs": []
    },
    {
      "cell_type": "markdown",
      "source": [
        "### OBSERVATION: The re-entry program helps formerly incarcerated people find employment after release. This is true of inmates who were employed in a CEO transitional job.\n",
        "\n",
        "### NULL HYPOTHESIS: the % of former prisoners employed after release is the same or lower for candidates who participated in the program (P1) as for the control group (P0), significance level p=0.05\n",
        "\n",
        "\n",
        "*  H0 = P0 - P1 >= 0\n",
        "*  H1 = P0 - P1 < 0\n",
        "*  Alpha = 0.05\n",
        "\n",
        "\n",
        "This is a TEST OF PROPORTIONS. we use the Binomial distribution since it is a yes/no (bernulli) test for each subject: the former inmate was or was not ever employed in a CEO transitional job (second row in the table above):\n",
        "\n",
        "P0 = 0.035\n",
        "P1 = 0.701"
      ],
      "metadata": {
        "id": "bmeFWbydMTUg"
      }
    },
    {
      "cell_type": "code",
      "execution_count": 37,
      "metadata": {
        "colab": {
          "base_uri": "https://localhost:8080/"
        },
        "id": "1wHpWvZxL9Fh",
        "outputId": "d48b7e24-8ae4-48da-b253-87610de94d18"
      },
      "outputs": [
        {
          "output_type": "stream",
          "name": "stdout",
          "text": [
            "The control is not larger than the program group. We must assess the statistical significance of difference.\n"
          ]
        }
      ],
      "source": [
        "#Chose / Set signficance threshold\n",
        "alpha = 0.05\n",
        "\n",
        "#Transform data from %\n",
        "P0 = 3.5 * 0.01\n",
        "P1 = 70.1 * 0.01\n",
        "\n",
        "#Set Print out for the results of the test\n",
        "if P0 - P1 >= 0:\n",
        "  print (\"The Null Hypothesis cannot be rejected.\")\n",
        "else:\n",
        "  print (\"The control is not larger than the program group. We must assess the statistical significance of difference.\")\n",
        "\n",
        "\n",
        "#Sample Size\n",
        "N0 = 409\n",
        "N1 = 564\n",
        "\n",
        "#Counts - % of sample size\n",
        "Nt0 = N0 * P0\n",
        "Nt1 = N1 * P1\n"
      ]
    },
    {
      "cell_type": "markdown",
      "source": [
        "# Statistical Test\n",
        "Categorical data with samples - can perform Z or Chi-Square\n",
        "\n",
        "## Z Test\n",
        "The z test compares the stanrard deviation of the expected distribution and the observed result. It tells you literally how many standard deviations from the tail an observation is, under the assumption of normality"
      ],
      "metadata": {
        "id": "5GbeuilSO_FA"
      }
    },
    {
      "cell_type": "code",
      "source": [
        "#Define sample proportion\n",
        "#Prob * size / total\n",
        "SP = (P0 * N0 + P1 * N1) / (N0 + N1)\n",
        "print(\"The sample proportion is: \", SP)\n",
        "\n",
        "#Define sample std (standard error) & p\n",
        "p = lambda p0, p1, n0, n1: (p0 * n0 + p1 * n1) / (n0 + n1)\n",
        "se = lambda p, n0, n1: np.sqrt(p * (1-p) * (1.0 / n0 + 1.0 / n1))\n",
        "\n",
        "zscore = lambda p0, p1, s: (p0 - p1) / s\n",
        "z_2y = zscore(P1, P0, se(p(P0, P1, N0, N1), N0, N1))\n",
        "print(\"The zscore is: \" , z_2y)"
      ],
      "metadata": {
        "colab": {
          "base_uri": "https://localhost:8080/"
        },
        "id": "GzE7Bh1_PK-L",
        "outputId": "abb27578-57b2-43aa-c0dd-33751b6b8389"
      },
      "execution_count": 38,
      "outputs": [
        {
          "output_type": "stream",
          "name": "stdout",
          "text": [
            "The sample proportion is:  0.4210472764645426\n",
            "The zscore is:  20.769786540820895\n"
          ]
        }
      ]
    },
    {
      "cell_type": "code",
      "source": [
        "p_2y = 1 - 0.9984\n",
        "\n",
        "\n",
        "def report_result(p,a):\n",
        "    print ('is the p value ' +\n",
        "           '{0:.2f} smaller than the critical value {1:.2f}?'.format(p,a))\n",
        "    if p < a:\n",
        "        print (\"YES!\")\n",
        "    else:\n",
        "        print (\"NO!\")\n",
        "\n",
        "    print ('the Null hypothesis is {}'.format(\\\n",
        "                            'rejected' if p < a  else 'not rejected') )\n",
        "\n",
        "\n",
        "report_result(p_2y, alpha)"
      ],
      "metadata": {
        "colab": {
          "base_uri": "https://localhost:8080/"
        },
        "id": "rZpX--cwRUt3",
        "outputId": "4456be9f-7bb7-429b-de61-9118230c12d7"
      },
      "execution_count": 39,
      "outputs": [
        {
          "output_type": "stream",
          "name": "stdout",
          "text": [
            "is the p value 0.00 smaller than the critical value 0.05?\n",
            "YES!\n",
            "the Null hypothesis is rejected\n"
          ]
        }
      ]
    },
    {
      "cell_type": "markdown",
      "source": [
        "### OBSERVATION: The re-entry program makes it less likely that formerly incarcerated people will be convicted of a felony.\n",
        "\n",
        "### NULL HYPOTHESIS: the % of former prisoners convicted of felonies after release is the same or higher for candidates who participated in the program (P1) as for the control group (P0), significance level p=0.05\n",
        "\n",
        "\n",
        "*  H0 = P0 - P1 <= 0\n",
        "*  H1 = P0 - P1 > 0\n",
        "*  Alpha = 0.05\n",
        "\n",
        "\n",
        "P0 = 0.117\n",
        "P1 = 0.10"
      ],
      "metadata": {
        "id": "fBRgMlWp1C_g"
      }
    },
    {
      "cell_type": "code",
      "source": [
        "# Alpha doesn't change - set anyway\n",
        "alpha = 0.05\n",
        "\n",
        "#Transform data from %\n",
        "P0 = 11.7 * 0.01\n",
        "P1 = 10.0 * 0.01\n",
        "\n",
        "#Set Print out for the results of the test\n",
        "if P0 - P1 <= 0:\n",
        "  print (\"The Null Hypothesis cannot be rejected.\")\n",
        "else:\n",
        "  print (\"The control is not larger than the program group. We must assess the statistical significance of difference.\")\n",
        "\n",
        "\n",
        "#Sample Size\n",
        "N0 = 409\n",
        "N1 = 568\n",
        "\n",
        "#Counts - % of sample size\n",
        "Nt0 = N0 * P0\n",
        "Nt1 = N1 * P1\n",
        "\n",
        "print(\"The count of felonies for program is: \", Nt1)\n",
        "print(\"The count of felonies for control is: \", Nt0)"
      ],
      "metadata": {
        "colab": {
          "base_uri": "https://localhost:8080/"
        },
        "id": "4Zol0Vtv15a_",
        "outputId": "07bbcdf5-0300-4a33-f0bb-186fb0b1558a"
      },
      "execution_count": 40,
      "outputs": [
        {
          "output_type": "stream",
          "name": "stdout",
          "text": [
            "The control is not larger than the program group. We must assess the statistical significance of difference.\n",
            "The count of felonies for program is:  56.800000000000004\n",
            "The count of felonies for control is:  47.852999999999994\n"
          ]
        }
      ]
    },
    {
      "cell_type": "code",
      "source": [
        "#Create Table with Actual Data Points\n",
        "data = {\n",
        "    \"Felony\": [Nt1, Nt0, (Nt1+Nt0)],\n",
        "    \"No Felony\": [(N1 - Nt1), (N0-Nt0), ((N1 - Nt1) + (N0-Nt0))],\n",
        "    \"Total\": [N1, N0, (N0+N1)]\n",
        "}\n",
        "\n",
        "table_df = pd.DataFrame(data, index=[\"Program Group\", \"Control Group\", \"Total\"])\n",
        "\n",
        "# Show Actual Data\n",
        "print(\"Observed Data Table:\")\n",
        "print(table_df)"
      ],
      "metadata": {
        "colab": {
          "base_uri": "https://localhost:8080/"
        },
        "id": "r8Qn-HD8Ehvk",
        "outputId": "8b99b745-cd2f-4739-b990-4e19ac653580"
      },
      "execution_count": 41,
      "outputs": [
        {
          "output_type": "stream",
          "name": "stdout",
          "text": [
            "Observed Data Table:\n",
            "                Felony  No Felony  Total\n",
            "Program Group   56.800    511.200    568\n",
            "Control Group   47.853    361.147    409\n",
            "Total          104.653    872.347    977\n"
          ]
        }
      ]
    },
    {
      "cell_type": "code",
      "source": [
        "#Create Expected Data\n",
        "ttlFel = (Nt1+Nt0)\n",
        "ttlnFel = (N1 - Nt1) + (N0-Nt0)\n",
        "ttl = N1 + N0\n",
        "\n",
        "EPFel = (N1*ttlFel) / ttl\n",
        "EPnFel = (N1*ttlnFel) / ttl\n",
        "\n",
        "ECFel = (N0*ttlFel) / ttl\n",
        "ECnFel = (N0*ttlnFel) / ttl\n",
        "\n",
        "\n",
        "#Create Table with Actual Data Points\n",
        "ex_data = {\n",
        "    \"Felony\": [EPFel, ECFel, ttlFel],\n",
        "    \"No Felony\": [EPnFel, ECnFel, ttlnFel],\n",
        "    \"Total\": [N1, N0, ttl]\n",
        "}\n",
        "\n",
        "con_table_df = pd.DataFrame(ex_data, index=[\"Program Group\", \"Control Group\", \"Total\"])\n",
        "\n",
        "# Show Actual Data\n",
        "print(\"Expected Data Table:\")\n",
        "print(con_table_df)"
      ],
      "metadata": {
        "colab": {
          "base_uri": "https://localhost:8080/"
        },
        "id": "ikJhA7wPJ5U8",
        "outputId": "68b6ed71-c17e-476c-b066-88200adca8c7"
      },
      "execution_count": 42,
      "outputs": [
        {
          "output_type": "stream",
          "name": "stdout",
          "text": [
            "Expected Data Table:\n",
            "                   Felony   No Felony  Total\n",
            "Program Group   60.842276  507.157724    568\n",
            "Control Group   43.810724  365.189276    409\n",
            "Total          104.653000  872.347000    977\n"
          ]
        }
      ]
    },
    {
      "cell_type": "code",
      "source": [
        "#df = 1\n",
        "Ntot = 977\n",
        "\n",
        "sample_values = np.array([[Nt1, N1 - Nt1], [Nt0, N0 - Nt0]])\n",
        "\n",
        "print (evalChisq(sample_values))"
      ],
      "metadata": {
        "colab": {
          "base_uri": "https://localhost:8080/"
        },
        "id": "oEaMD0JMMRsL",
        "outputId": "487c13b0-acee-4369-b263-bd795706c0f1"
      },
      "execution_count": 43,
      "outputs": [
        {
          "output_type": "stream",
          "name": "stdout",
          "text": [
            "0.7184939175052878\n"
          ]
        }
      ]
    },
    {
      "cell_type": "markdown",
      "source": [
        "# Results"
      ],
      "metadata": {
        "id": "YsEVRG9TO3dK"
      }
    },
    {
      "cell_type": "markdown",
      "source": [
        "My Chi Square value is .71895\n",
        "\n",
        "For .05 alpha and 1 degrees of freedom, the sig value is 3.84\n",
        "\n",
        "3.84 > .71895\n",
        "Since the chi square is less than the sig value, we fail to reject the null hypothesis. We can't say anything about the programs relationship with whether formerly incarcerated people commit felonies after release."
      ],
      "metadata": {
        "id": "1mphNK8DN5s0"
      }
    }
  ]
}