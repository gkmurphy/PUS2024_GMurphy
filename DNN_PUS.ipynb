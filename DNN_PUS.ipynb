{
  "nbformat": 4,
  "nbformat_minor": 0,
  "metadata": {
    "colab": {
      "provenance": [],
      "gpuType": "T4",
      "include_colab_link": true
    },
    "kernelspec": {
      "name": "python3",
      "display_name": "Python 3"
    },
    "language_info": {
      "name": "python"
    },
    "accelerator": "GPU"
  },
  "cells": [
    {
      "cell_type": "markdown",
      "metadata": {
        "id": "view-in-github",
        "colab_type": "text"
      },
      "source": [
        "<a href=\"https://colab.research.google.com/github/gkmurphy/PUS2024_GMurphy/blob/ClassDemos/DNN_PUS.ipynb\" target=\"_parent\"><img src=\"https://colab.research.google.com/assets/colab-badge.svg\" alt=\"Open In Colab\"/></a>"
      ]
    },
    {
      "cell_type": "code",
      "execution_count": 1,
      "metadata": {
        "id": "gfUuRbTECORT"
      },
      "outputs": [],
      "source": [
        "import tensorflow as tf\n",
        "import matplotlib.pyplot as plt\n",
        "import numpy as np\n"
      ]
    },
    {
      "cell_type": "code",
      "source": [
        "mnist = tf.keras.datasets.mnist\n",
        "(x_train, y_train), (x_test, y_test) = mnist.load_data()"
      ],
      "metadata": {
        "colab": {
          "base_uri": "https://localhost:8080/"
        },
        "id": "CI-jucDYC03Z",
        "outputId": "3d397704-a0ae-42bf-b0d5-f3408a6934cc"
      },
      "execution_count": 2,
      "outputs": [
        {
          "output_type": "stream",
          "name": "stdout",
          "text": [
            "Downloading data from https://storage.googleapis.com/tensorflow/tf-keras-datasets/mnist.npz\n",
            "\u001b[1m11490434/11490434\u001b[0m \u001b[32m━━━━━━━━━━━━━━━━━━━━\u001b[0m\u001b[37m\u001b[0m \u001b[1m2s\u001b[0m 0us/step\n"
          ]
        }
      ]
    },
    {
      "cell_type": "code",
      "source": [
        "#target var - 1D vector\n",
        "y_train.shape"
      ],
      "metadata": {
        "colab": {
          "base_uri": "https://localhost:8080/"
        },
        "id": "iuD_VG7EDcrW",
        "outputId": "bb677029-7d23-4a76-a7ad-d25688b92081"
      },
      "execution_count": 3,
      "outputs": [
        {
          "output_type": "execute_result",
          "data": {
            "text/plain": [
              "(60000,)"
            ]
          },
          "metadata": {},
          "execution_count": 3
        }
      ]
    },
    {
      "cell_type": "code",
      "source": [
        "#Images single color (2D) - pandas to rendering it color\n",
        "x_train.shape"
      ],
      "metadata": {
        "colab": {
          "base_uri": "https://localhost:8080/"
        },
        "id": "aFbX8xlEDzHh",
        "outputId": "44946358-76c6-4335-d579-574276670bb4"
      },
      "execution_count": 6,
      "outputs": [
        {
          "output_type": "execute_result",
          "data": {
            "text/plain": [
              "(60000, 28, 28)"
            ]
          },
          "metadata": {},
          "execution_count": 6
        }
      ]
    },
    {
      "cell_type": "code",
      "source": [
        "plt.imshow(x_train[0], cmap='bone')"
      ],
      "metadata": {
        "colab": {
          "base_uri": "https://localhost:8080/",
          "height": 447
        },
        "id": "wlAJPOVzD3Kn",
        "outputId": "91648d15-8a11-449a-a00f-941b1219f3cf"
      },
      "execution_count": 8,
      "outputs": [
        {
          "output_type": "execute_result",
          "data": {
            "text/plain": [
              "<matplotlib.image.AxesImage at 0x7dbb5690e590>"
            ]
          },
          "metadata": {},
          "execution_count": 8
        },
        {
          "output_type": "display_data",
          "data": {
            "text/plain": [
              "<Figure size 640x480 with 1 Axes>"
            ],
            "image/png": "[encoded data removed]"
          },
          "metadata": {}
        }
      ]
    },
    {
      "cell_type": "code",
      "source": [
        "# check how many values are in the target variable\n",
        "np.unique(y_train, return_counts=True) #what are the individual values"
      ],
      "metadata": {
        "id": "EEBSFCPuEAyQ",
        "colab": {
          "base_uri": "https://localhost:8080/"
        },
        "outputId": "058a76d6-0d52-4c2e-cddb-c2467952e3ff"
      },
      "execution_count": 12,
      "outputs": [
        {
          "output_type": "execute_result",
          "data": {
            "text/plain": [
              "(array([0, 1, 2, 3, 4, 5, 6, 7, 8, 9], dtype=uint8),\n",
              " array([5923, 6742, 5958, 6131, 5842, 5421, 5918, 6265, 5851, 5949]))"
            ]
          },
          "metadata": {},
          "execution_count": 12
        }
      ]
    },
    {
      "cell_type": "code",
      "source": [
        "# check what is the min and max value and data type of the features dataset\n",
        "#8bits - can store 2^8 (255)\n",
        "np.max(y_train), np.min(y_train), x_train.dtype"
      ],
      "metadata": {
        "id": "4tjUUsqOELhP",
        "colab": {
          "base_uri": "https://localhost:8080/"
        },
        "outputId": "56f6849f-530c-4873-8547-2f3ee9b24d43"
      },
      "execution_count": 17,
      "outputs": [
        {
          "output_type": "execute_result",
          "data": {
            "text/plain": [
              "(9, 0, dtype('uint8'))"
            ]
          },
          "metadata": {},
          "execution_count": 17
        }
      ]
    },
    {
      "cell_type": "code",
      "source": [
        "testvar = np.array([255]).astype('uint8')\n",
        "testvar + np.uint8(1) #I missed why this is a problem..."
      ],
      "metadata": {
        "colab": {
          "base_uri": "https://localhost:8080/"
        },
        "id": "APjqywc8luVl",
        "outputId": "9751ee8d-12ca-4d75-fc99-df5de124ad02"
      },
      "execution_count": 20,
      "outputs": [
        {
          "output_type": "execute_result",
          "data": {
            "text/plain": [
              "array([0], dtype=uint8)"
            ]
          },
          "metadata": {},
          "execution_count": 20
        }
      ]
    },
    {
      "cell_type": "code",
      "source": [
        "# scale the imput data so that it is min=0 and max=1 (min-max scaling)\n",
        "#scaling all of this down to 0 and 1... I should have already learned this\n",
        "\n",
        "x_train = x_train.astype('float32') / 255\n",
        "x_test = x_test.astype('float32') / 255"
      ],
      "metadata": {
        "id": "O9c7pvCiEPBT"
      },
      "execution_count": 21,
      "outputs": []
    },
    {
      "cell_type": "code",
      "source": [
        "x_train.shape"
      ],
      "metadata": {
        "colab": {
          "base_uri": "https://localhost:8080/"
        },
        "id": "ojr_ateAElqV",
        "outputId": "43fd2d2b-67ea-4946-bab5-b4c608da0698"
      },
      "execution_count": 22,
      "outputs": [
        {
          "output_type": "execute_result",
          "data": {
            "text/plain": [
              "(60000, 28, 28)"
            ]
          },
          "metadata": {},
          "execution_count": 22
        }
      ]
    },
    {
      "cell_type": "code",
      "source": [
        "28*28\n",
        "\n",
        "input_shape = x_train.shape[1:]\n",
        "input_shape"
      ],
      "metadata": {
        "colab": {
          "base_uri": "https://localhost:8080/"
        },
        "id": "-P9gsr1rGNvq",
        "outputId": "2170b56d-b5bb-4285-88b5-628f34b700f1"
      },
      "execution_count": 23,
      "outputs": [
        {
          "output_type": "execute_result",
          "data": {
            "text/plain": [
              "(28, 28)"
            ]
          },
          "metadata": {},
          "execution_count": 23
        }
      ]
    },
    {
      "cell_type": "code",
      "source": [
        "# architecture hyperparametrs\n",
        "# have to run NN on GPU (not CPU) - because it's parallelized\n",
        "\n",
        "\n",
        "model1 = tf.keras.models.Sequential() #not recurrent - forward then backward\n",
        "model1.add(tf.keras.layers.Flatten(input_shape=(28,28))) #flatten from 28 28 to 784\n",
        "\n",
        "#no relu means you're just doing a linear network\n",
        "model1.add(tf.keras.layers.Dense(128, activation='relu')) #dense refers to connectivity ; every neuron connects to every node in the next layer\n",
        "model1.add(tf.keras.layers.Dense(10, activation = 'relu'))\n",
        "model1.add(tf.keras.layers.Dense(1, activation = 'linear')) #don't change the values on the last (output) layer\n",
        "\n",
        "\n",
        "# add 1 dense layer with 128 neurons and relu activation function\n",
        "# add 1 dropout layers dropping 20% of the connections\n",
        "# add 1 dense layer with 10 neurons\n",
        "# add the output  layer with 1\n",
        "# your code goes here\n",
        "\n"
      ],
      "metadata": {
        "colab": {
          "base_uri": "https://localhost:8080/"
        },
        "id": "k0ais0jQEzz4",
        "outputId": "959d4718-8a54-48e4-b929-575b0257e347"
      },
      "execution_count": 25,
      "outputs": [
        {
          "output_type": "stream",
          "name": "stderr",
          "text": [
            "/usr/local/lib/python3.10/dist-packages/keras/src/layers/reshaping/flatten.py:37: UserWarning: Do not pass an `input_shape`/`input_dim` argument to a layer. When using Sequential models, prefer using an `Input(shape)` object as the first layer in the model instead.\n",
            "  super().__init__(**kwargs)\n"
          ]
        }
      ]
    },
    {
      "cell_type": "code",
      "source": [
        "tf.keras.utils.plot_model(model)"
      ],
      "metadata": {
        "colab": {
          "base_uri": "https://localhost:8080/",
          "height": 1000
        },
        "id": "TtClRvLcG4VV",
        "outputId": "e6c12cce-2583-4ceb-fe31-d9d847d2cba8"
      },
      "execution_count": null,
      "outputs": [
        {
          "output_type": "execute_result",
          "data": {
            "image/png": "[encoded data removed]",
            "text/plain": [
              "<IPython.core.display.Image object>"
            ]
          },
          "metadata": {},
          "execution_count": 12
        }
      ]
    },
    {
      "cell_type": "code",
      "source": [
        "# training hyperparameter\n",
        "# choose the MeanSquaredError and Adam as the optimizer\n",
        "\n",
        "loss_fn = tf.keras.losses.MeanSquaredError()\n",
        "optimizer = tf.keras.optimizers.Adam()"
      ],
      "metadata": {
        "id": "gjLqvxoJFTwH"
      },
      "execution_count": null,
      "outputs": []
    },
    {
      "cell_type": "code",
      "source": [
        "model.compile(optimizer = optimizer, loss = loss_fn,\n",
        "              metrics=['accuracy'])\n",
        "training_history = model.fit(x_train, y_train, epochs=5)"
      ],
      "metadata": {
        "colab": {
          "base_uri": "https://localhost:8080/"
        },
        "id": "cp73OULPH8aB",
        "outputId": "996f44fd-0be3-4ea6-ef77-21370f008925"
      },
      "execution_count": null,
      "outputs": [
        {
          "output_type": "stream",
          "name": "stdout",
          "text": [
            "Epoch 1/5\n",
            "\u001b[1m1875/1875\u001b[0m \u001b[32m━━━━━━━━━━━━━━━━━━━━\u001b[0m\u001b[37m\u001b[0m \u001b[1m7s\u001b[0m 2ms/step - accuracy: 0.1341 - loss: 3.4899\n",
            "Epoch 2/5\n",
            "\u001b[1m1875/1875\u001b[0m \u001b[32m━━━━━━━━━━━━━━━━━━━━\u001b[0m\u001b[37m\u001b[0m \u001b[1m4s\u001b[0m 2ms/step - accuracy: 0.1408 - loss: 1.4298\n",
            "Epoch 3/5\n",
            "\u001b[1m1875/1875\u001b[0m \u001b[32m━━━━━━━━━━━━━━━━━━━━\u001b[0m\u001b[37m\u001b[0m \u001b[1m4s\u001b[0m 2ms/step - accuracy: 0.1461 - loss: 1.2015\n",
            "Epoch 4/5\n",
            "\u001b[1m1875/1875\u001b[0m \u001b[32m━━━━━━━━━━━━━━━━━━━━\u001b[0m\u001b[37m\u001b[0m \u001b[1m5s\u001b[0m 2ms/step - accuracy: 0.1457 - loss: 1.1101\n",
            "Epoch 5/5\n"
          ]
        }
      ]
    },
    {
      "cell_type": "code",
      "source": [
        "plt.plot(training_history.history[\"loss\"])\n",
        "plt.xlabel(\"Epochs\")\n",
        "plt.ylabel(\"Loss\")\n",
        "plt.yscale('log')\n"
      ],
      "metadata": {
        "id": "c80Nmkw7IhXx"
      },
      "execution_count": null,
      "outputs": []
    },
    {
      "cell_type": "code",
      "source": [
        "model.evaluate(x_test, y_test)"
      ],
      "metadata": {
        "id": "zXe-573CJ9Cd"
      },
      "execution_count": null,
      "outputs": []
    },
    {
      "cell_type": "code",
      "source": [
        "model.predict(x_test[:5])"
      ],
      "metadata": {
        "id": "sfg-VNAtI3Be"
      },
      "execution_count": null,
      "outputs": []
    },
    {
      "cell_type": "code",
      "source": [
        "# is this model overfitting? how woudl you find out?"
      ],
      "metadata": {
        "id": "NFwv_bNl9QEF"
      },
      "execution_count": null,
      "outputs": []
    },
    {
      "cell_type": "code",
      "source": [
        "y_test[:5]"
      ],
      "metadata": {
        "id": "r6kcQLODKJNx"
      },
      "execution_count": null,
      "outputs": []
    },
    {
      "cell_type": "code",
      "source": [
        "# modify the architecture hyperparametrs\n",
        "# set the last layer to a 10 nerons dense layer and set the softmax as the activation function for the last layer\n",
        "prob_model = tf.keras.models.Sequential()\n",
        "# add 1 dense layer with 128 neurons and relu activation function\n",
        "# add 1 dropout layers dropping 20% of the connections\n",
        "# add 1 dense layer with 10 neurons\n",
        "# your code goes hereprob_model.summary()"
      ],
      "metadata": {
        "id": "sKwIt-WbKPy6"
      },
      "execution_count": null,
      "outputs": []
    },
    {
      "cell_type": "code",
      "source": [
        "model.summary()\n"
      ],
      "metadata": {
        "id": "tGhr09SY907I"
      },
      "execution_count": null,
      "outputs": []
    },
    {
      "cell_type": "code",
      "source": [
        "tf.keras.utils.plot_model(model)"
      ],
      "metadata": {
        "id": "UwzWCeHR90lq"
      },
      "execution_count": null,
      "outputs": []
    },
    {
      "cell_type": "code",
      "source": [
        "#set the loss to be SparseCategoricalCrossentropy(), the optimizer to Adam and compile and fit as before\n",
        "loss = ...\n",
        "optimizer = ...\n",
        "prob_model.compile...\n",
        "prob_training_history = ..."
      ],
      "metadata": {
        "id": "r7ye1w0eK3Zd"
      },
      "execution_count": null,
      "outputs": []
    },
    {
      "cell_type": "code",
      "source": [
        "prob_model.evaluate(x_test, y_test)"
      ],
      "metadata": {
        "id": "Hene5EG7Lo8Z"
      },
      "execution_count": null,
      "outputs": []
    },
    {
      "cell_type": "code",
      "source": [
        "result = prob_model.predict(x_test[:10])"
      ],
      "metadata": {
        "id": "WPu8ydTFMWTn"
      },
      "execution_count": null,
      "outputs": []
    },
    {
      "cell_type": "code",
      "source": [
        "result"
      ],
      "metadata": {
        "id": "yTGZvFBnMcsm"
      },
      "execution_count": null,
      "outputs": []
    },
    {
      "cell_type": "code",
      "source": [
        "plt.imshow(x_test[8])"
      ],
      "metadata": {
        "id": "h8mGDYMBNC2l"
      },
      "execution_count": null,
      "outputs": []
    },
    {
      "cell_type": "code",
      "source": [
        "for i,result in enumerate(prob_model.predict(x_test[:10])):\n",
        "  plt.figure(figsize=(10,3))\n",
        "  plt.plot(range(10), result, label=y_test[i])\n",
        "  plt.plot(range(10)[np.argmax(result)], np.max(result), '.')\n",
        "  plt.axvline(range(10)[np.argmax(result)])\n",
        "  plt.legend()\n",
        "  plt.xlabel(\"value\")\n",
        "  plt.ylabel('predicted \"probability\" ')\n",
        "  plt.show()"
      ],
      "metadata": {
        "id": "k-252KDZLzIy"
      },
      "execution_count": null,
      "outputs": []
    },
    {
      "cell_type": "code",
      "source": [],
      "metadata": {
        "id": "GwR59UszMQBi"
      },
      "execution_count": null,
      "outputs": []
    }
  ]
}